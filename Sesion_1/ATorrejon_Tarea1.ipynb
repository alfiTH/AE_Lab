{
 "cells": [
  {
   "cell_type": "markdown",
   "metadata": {},
   "source": [
    "# Tarea preparación del entorno\n",
    "Autor: Alejandro Torrejón Harto"
   ]
  },
  {
   "cell_type": "markdown",
   "metadata": {},
   "source": [
    "### Librerías a usar"
   ]
  },
  {
   "cell_type": "code",
   "execution_count": 1,
   "metadata": {},
   "outputs": [],
   "source": [
    "import matplotlib.pyplot as plt #Visualización de gráficas\n",
    "import numpy as np              #arrays de python\n",
    "import torch                    #Tensores de torch en gráfica y cpu\n",
    "import time                     #Cálculos de tiempos\n"
   ]
  },
  {
   "cell_type": "markdown",
   "metadata": {},
   "source": [
    "## Uso de NUMPY\n"
   ]
  },
  {
   "cell_type": "markdown",
   "metadata": {},
   "source": [
    "### 1. Crea una lista con 100 elementos repetidos."
   ]
  },
  {
   "cell_type": "code",
   "execution_count": 2,
   "metadata": {},
   "outputs": [
    {
     "name": "stdout",
     "output_type": "stream",
     "text": [
      "Longitud de lista:  100 \n",
      "Printado de la lista:  [10, 10, 10, 10, 10, 10, 10, 10, 10, 10, 10, 10, 10, 10, 10, 10, 10, 10, 10, 10, 10, 10, 10, 10, 10, 10, 10, 10, 10, 10, 10, 10, 10, 10, 10, 10, 10, 10, 10, 10, 10, 10, 10, 10, 10, 10, 10, 10, 10, 10, 10, 10, 10, 10, 10, 10, 10, 10, 10, 10, 10, 10, 10, 10, 10, 10, 10, 10, 10, 10, 10, 10, 10, 10, 10, 10, 10, 10, 10, 10, 10, 10, 10, 10, 10, 10, 10, 10, 10, 10, 10, 10, 10, 10, 10, 10, 10, 10, 10, 10]\n",
      "Longitud de lista2:  100 \n",
      "Printado de la lista:  [10, 10, 10, 10, 10, 10, 10, 10, 10, 10, 10, 10, 10, 10, 10, 10, 10, 10, 10, 10, 10, 10, 10, 10, 10, 10, 10, 10, 10, 10, 10, 10, 10, 10, 10, 10, 10, 10, 10, 10, 10, 10, 10, 10, 10, 10, 10, 10, 10, 10, 10, 10, 10, 10, 10, 10, 10, 10, 10, 10, 10, 10, 10, 10, 10, 10, 10, 10, 10, 10, 10, 10, 10, 10, 10, 10, 10, 10, 10, 10, 10, 10, 10, 10, 10, 10, 10, 10, 10, 10, 10, 10, 10, 10, 10, 10, 10, 10, 10, 10]\n",
      "Longitud de lista3:  100 \n",
      "Printado de la lista:  [10, 10, 10, 10, 10, 10, 10, 10, 10, 10, 10, 10, 10, 10, 10, 10, 10, 10, 10, 10, 10, 10, 10, 10, 10, 10, 10, 10, 10, 10, 10, 10, 10, 10, 10, 10, 10, 10, 10, 10, 10, 10, 10, 10, 10, 10, 10, 10, 10, 10, 10, 10, 10, 10, 10, 10, 10, 10, 10, 10, 10, 10, 10, 10, 10, 10, 10, 10, 10, 10, 10, 10, 10, 10, 10, 10, 10, 10, 10, 10, 10, 10, 10, 10, 10, 10, 10, 10, 10, 10, 10, 10, 10, 10, 10, 10, 10, 10, 10, 10]\n",
      "Longitud de lista4:  100 \n",
      "Printado de la lista:  [10, 10, 10, 10, 10, 10, 10, 10, 10, 10, 10, 10, 10, 10, 10, 10, 10, 10, 10, 10, 10, 10, 10, 10, 10, 10, 10, 10, 10, 10, 10, 10, 10, 10, 10, 10, 10, 10, 10, 10, 10, 10, 10, 10, 10, 10, 10, 10, 10, 10, 10, 10, 10, 10, 10, 10, 10, 10, 10, 10, 10, 10, 10, 10, 10, 10, 10, 10, 10, 10, 10, 10, 10, 10, 10, 10, 10, 10, 10, 10, 10, 10, 10, 10, 10, 10, 10, 10, 10, 10, 10, 10, 10, 10, 10, 10, 10, 10, 10, 10]\n"
     ]
    }
   ],
   "source": [
    "#Método 1\n",
    "lista = [10] * 100\n",
    "print(\"Longitud de lista: \", len(lista),\"\\nPrintado de la lista: \", lista)\n",
    "\n",
    "#Método 2\n",
    "lista2 = []\n",
    "for i in range (100): lista2.append(10)\n",
    "print(\"Longitud de lista2: \", len(lista2),\"\\nPrintado de la lista: \", lista2)\n",
    "\n",
    "#Método 3\n",
    "lista3 = []\n",
    "for i in range (100): lista3.insert(len(lista3),10)\n",
    "print(\"Longitud de lista3: \", len(lista3),\"\\nPrintado de la lista: \", lista3)\n",
    "\n",
    "#Método 4 (nunca realizarlo)\n",
    "lista4 = [10, 10, 10, 10, 10, 10, 10, 10, 10, 10, 10, 10, 10, 10, 10, 10, 10, 10, 10, 10, 10, 10, 10, 10, 10, 10, 10, 10, 10, 10, 10, 10, 10, 10, 10, 10, 10, 10, 10, 10, 10, 10, 10, 10, 10, 10, 10, 10, 10, 10, 10, 10, 10, 10, 10, 10, 10, 10, 10, 10, 10, 10, 10, 10, 10, 10, 10, 10, 10, 10, 10, 10, 10, 10, 10, 10, 10, 10, 10, 10, 10, 10, 10, 10, 10, 10, 10, 10, 10, 10, 10, 10, 10, 10, 10, 10, 10, 10, 10, 10]\n",
    "print(\"Longitud de lista4: \", len(lista4),\"\\nPrintado de la lista: \", lista4)\n",
    "\n"
   ]
  },
  {
   "cell_type": "markdown",
   "metadata": {},
   "source": [
    "### 2. Inserta un elemento por el final."
   ]
  },
  {
   "cell_type": "code",
   "execution_count": 3,
   "metadata": {},
   "outputs": [
    {
     "name": "stdout",
     "output_type": "stream",
     "text": [
      "Longitud de lista:  101 \n",
      "Printado de la lista:  [10, 10, 10, 10, 10, 10, 10, 10, 10, 10, 10, 10, 10, 10, 10, 10, 10, 10, 10, 10, 10, 10, 10, 10, 10, 10, 10, 10, 10, 10, 10, 10, 10, 10, 10, 10, 10, 10, 10, 10, 10, 10, 10, 10, 10, 10, 10, 10, 10, 10, 10, 10, 10, 10, 10, 10, 10, 10, 10, 10, 10, 10, 10, 10, 10, 10, 10, 10, 10, 10, 10, 10, 10, 10, 10, 10, 10, 10, 10, 10, 10, 10, 10, 10, 10, 10, 10, 10, 10, 10, 10, 10, 10, 10, 10, 10, 10, 10, 10, 10, 99]\n",
      "Longitud de lista:  101 \n",
      "Printado de la lista:  [10, 10, 10, 10, 10, 10, 10, 10, 10, 10, 10, 10, 10, 10, 10, 10, 10, 10, 10, 10, 10, 10, 10, 10, 10, 10, 10, 10, 10, 10, 10, 10, 10, 10, 10, 10, 10, 10, 10, 10, 10, 10, 10, 10, 10, 10, 10, 10, 10, 10, 10, 10, 10, 10, 10, 10, 10, 10, 10, 10, 10, 10, 10, 10, 10, 10, 10, 10, 10, 10, 10, 10, 10, 10, 10, 10, 10, 10, 10, 10, 10, 10, 10, 10, 10, 10, 10, 10, 10, 10, 10, 10, 10, 10, 10, 10, 10, 10, 10, 10, 99]\n",
      "Longitud de lista:  101 \n",
      "Printado de la lista:  [10, 10, 10, 10, 10, 10, 10, 10, 10, 10, 10, 10, 10, 10, 10, 10, 10, 10, 10, 10, 10, 10, 10, 10, 10, 10, 10, 10, 10, 10, 10, 10, 10, 10, 10, 10, 10, 10, 10, 10, 10, 10, 10, 10, 10, 10, 10, 10, 10, 10, 10, 10, 10, 10, 10, 10, 10, 10, 10, 10, 10, 10, 10, 10, 10, 10, 10, 10, 10, 10, 10, 10, 10, 10, 10, 10, 10, 10, 10, 10, 10, 10, 10, 10, 10, 10, 10, 10, 10, 10, 10, 10, 10, 10, 10, 10, 10, 10, 10, 10, 99]\n",
      "Longitud de lista:  101 \n",
      "Printado de la lista:  [10, 10, 10, 10, 10, 10, 10, 10, 10, 10, 10, 10, 10, 10, 10, 10, 10, 10, 10, 10, 10, 10, 10, 10, 10, 10, 10, 10, 10, 10, 10, 10, 10, 10, 10, 10, 10, 10, 10, 10, 10, 10, 10, 10, 10, 10, 10, 10, 10, 10, 10, 10, 10, 10, 10, 10, 10, 10, 10, 10, 10, 10, 10, 10, 10, 10, 10, 10, 10, 10, 10, 10, 10, 10, 10, 10, 10, 10, 10, 10, 10, 10, 10, 10, 10, 10, 10, 10, 10, 10, 10, 10, 10, 10, 10, 10, 10, 10, 10, 10, 99]\n"
     ]
    }
   ],
   "source": [
    "#Método 1\n",
    "lista.append(99)\n",
    "print(\"Longitud de lista: \", len(lista),\"\\nPrintado de la lista: \", lista)\n",
    "\n",
    "#Método 2\n",
    "lista2.insert(len(lista2),99)\n",
    "print(\"Longitud de lista: \", len(lista2),\"\\nPrintado de la lista: \", lista2)\n",
    "\n",
    "#Método 3\n",
    "lista3+=[99]\n",
    "print(\"Longitud de lista: \", len(lista3),\"\\nPrintado de la lista: \", lista3)\n",
    "\n",
    "#Método 3\n",
    "lista4.extend([99])\n",
    "print(\"Longitud de lista: \", len(lista4),\"\\nPrintado de la lista: \", lista4)\n"
   ]
  },
  {
   "cell_type": "markdown",
   "metadata": {},
   "source": [
    "### 3. Elimina el último elemento."
   ]
  },
  {
   "cell_type": "code",
   "execution_count": 4,
   "metadata": {},
   "outputs": [
    {
     "name": "stdout",
     "output_type": "stream",
     "text": [
      "Longitud de lista:  100 \n",
      "Printado de la lista:  [10, 10, 10, 10, 10, 10, 10, 10, 10, 10, 10, 10, 10, 10, 10, 10, 10, 10, 10, 10, 10, 10, 10, 10, 10, 10, 10, 10, 10, 10, 10, 10, 10, 10, 10, 10, 10, 10, 10, 10, 10, 10, 10, 10, 10, 10, 10, 10, 10, 10, 10, 10, 10, 10, 10, 10, 10, 10, 10, 10, 10, 10, 10, 10, 10, 10, 10, 10, 10, 10, 10, 10, 10, 10, 10, 10, 10, 10, 10, 10, 10, 10, 10, 10, 10, 10, 10, 10, 10, 10, 10, 10, 10, 10, 10, 10, 10, 10, 10, 10]\n",
      "Longitud de lista:  100 \n",
      "Printado de la lista:  [10, 10, 10, 10, 10, 10, 10, 10, 10, 10, 10, 10, 10, 10, 10, 10, 10, 10, 10, 10, 10, 10, 10, 10, 10, 10, 10, 10, 10, 10, 10, 10, 10, 10, 10, 10, 10, 10, 10, 10, 10, 10, 10, 10, 10, 10, 10, 10, 10, 10, 10, 10, 10, 10, 10, 10, 10, 10, 10, 10, 10, 10, 10, 10, 10, 10, 10, 10, 10, 10, 10, 10, 10, 10, 10, 10, 10, 10, 10, 10, 10, 10, 10, 10, 10, 10, 10, 10, 10, 10, 10, 10, 10, 10, 10, 10, 10, 10, 10, 10]\n"
     ]
    }
   ],
   "source": [
    "#Método 1\n",
    "lista.pop()\n",
    "print(\"Longitud de lista: \", len(lista),\"\\nPrintado de la lista: \", lista)\n",
    "\n",
    "#Método 2\n",
    "lista2 = lista2[:len(lista2)-1]\n",
    "print(\"Longitud de lista: \", len(lista2),\"\\nPrintado de la lista: \", lista2)"
   ]
  },
  {
   "cell_type": "markdown",
   "metadata": {},
   "source": [
    "### 4. Transfórmalo a vector de Numpy."
   ]
  },
  {
   "cell_type": "code",
   "execution_count": 5,
   "metadata": {},
   "outputs": [
    {
     "name": "stdout",
     "output_type": "stream",
     "text": [
      "Tipo del array:  <class 'numpy.ndarray'> \n",
      "Longitud de array:  100 \n",
      "Printado el array:  [10 10 10 10 10 10 10 10 10 10 10 10 10 10 10 10 10 10 10 10 10 10 10 10\n",
      " 10 10 10 10 10 10 10 10 10 10 10 10 10 10 10 10 10 10 10 10 10 10 10 10\n",
      " 10 10 10 10 10 10 10 10 10 10 10 10 10 10 10 10 10 10 10 10 10 10 10 10\n",
      " 10 10 10 10 10 10 10 10 10 10 10 10 10 10 10 10 10 10 10 10 10 10 10 10\n",
      " 10 10 10 10]\n"
     ]
    }
   ],
   "source": [
    "import numpy as np\n",
    "numpyArray = np.array(lista)\n",
    "print(\"Tipo del array: \", type(numpyArray),\"\\nLongitud de array: \", len(numpyArray),\"\\nPrintado el array: \", numpyArray)"
   ]
  },
  {
   "cell_type": "markdown",
   "metadata": {},
   "source": [
    "### 5. Crea una matriz de tamaño 100x50 obtenido de una distribución uniforme."
   ]
  },
  {
   "cell_type": "code",
   "execution_count": 6,
   "metadata": {},
   "outputs": [
    {
     "data": {
      "text/plain": [
       "'Printado de la matriz: '"
      ]
     },
     "metadata": {},
     "output_type": "display_data"
    },
    {
     "data": {
      "text/plain": [
       "array([[0.15131971, 0.47518312, 0.25127498, ..., 0.33075832, 0.82749769,\n",
       "        0.92973218],\n",
       "       [0.77197045, 0.04002667, 0.47873258, ..., 0.15414204, 0.75904047,\n",
       "        0.47169193],\n",
       "       [0.07778734, 0.06331498, 0.08552075, ..., 0.75840577, 0.50773589,\n",
       "        0.86270008],\n",
       "       ...,\n",
       "       [0.43129955, 0.20152962, 0.1540905 , ..., 0.73053483, 0.85015377,\n",
       "        0.63558787],\n",
       "       [0.52754087, 0.1452023 , 0.03128963, ..., 0.4465066 , 0.82270406,\n",
       "        0.26524091],\n",
       "       [0.24181766, 0.3525006 , 0.1801496 , ..., 0.30841562, 0.2341777 ,\n",
       "        0.76417077]])"
      ]
     },
     "metadata": {},
     "output_type": "display_data"
    }
   ],
   "source": [
    "matUniform = np.random.uniform(low=0, high=1, size=5000).reshape((100,50))\n",
    "display(\"Printado de la matriz: \", matUniform)\n",
    "\n",
    "#Descomentar si se quiere ver la forma de la matriz\n",
    "#plt.hist(matUniform)\n",
    "#plt.show()"
   ]
  },
  {
   "cell_type": "markdown",
   "metadata": {},
   "source": [
    "### 6. Crea una matriz de tamaño 100x50 obtenido de una distribución normal."
   ]
  },
  {
   "cell_type": "code",
   "execution_count": 7,
   "metadata": {},
   "outputs": [
    {
     "data": {
      "text/plain": [
       "'Printado de la matriz: '"
      ]
     },
     "metadata": {},
     "output_type": "display_data"
    },
    {
     "data": {
      "text/plain": [
       "array([[-1.16408766, -0.56351965, -1.74281189, ..., -0.7259527 ,\n",
       "        -1.14366762,  0.56888705],\n",
       "       [ 0.57614524, -0.05995229, -1.52574947, ..., -0.08707496,\n",
       "        -0.38815605,  0.11158509],\n",
       "       [ 2.74011369,  0.99808607,  0.36982575, ...,  1.18689956,\n",
       "        -0.96725975, -0.14643029],\n",
       "       ...,\n",
       "       [ 1.05943406,  1.01550105,  1.19820679, ...,  0.74131174,\n",
       "        -0.15190337, -1.03009068],\n",
       "       [-0.02464247, -1.10860895, -0.18709769, ..., -1.61632884,\n",
       "        -0.2028692 ,  1.03683616],\n",
       "       [ 0.03468165, -0.57110216,  0.97211805, ...,  0.82546877,\n",
       "        -0.59859391,  0.63330086]])"
      ]
     },
     "metadata": {},
     "output_type": "display_data"
    }
   ],
   "source": [
    "matNorm =  np.random.normal(size=5000).reshape((100,50))\n",
    "display(\"Printado de la matriz: \", matNorm)\n",
    "\n",
    "#Descomentar si se quiere ver la forma de la matriz\n",
    "#plt.hist(matNorm)\n",
    "#plt.show()"
   ]
  },
  {
   "cell_type": "markdown",
   "metadata": {},
   "source": [
    "### 7. Multiplica ambas matrices de Numpy mediante multiplicación de matrices. En caso que no hayas podido, transpón la matriz adecuada."
   ]
  },
  {
   "cell_type": "code",
   "execution_count": 8,
   "metadata": {},
   "outputs": [
    {
     "data": {
      "text/plain": [
       "'Printado de la matriz: '"
      ]
     },
     "metadata": {},
     "output_type": "display_data"
    },
    {
     "data": {
      "text/plain": [
       "array([[-8.55458731e-01, -1.57729949e-01, -6.45296544e-01, ...,\n",
       "         2.38122384e+00,  3.59963366e-02, -7.98077956e+00],\n",
       "       [ 6.39909597e-01,  1.96108197e+00,  1.24360096e+00, ...,\n",
       "        -5.01924260e-01,  2.75527324e+00, -3.43394562e+00],\n",
       "       [ 9.84576037e-01, -1.38597978e+00, -2.11709707e+00, ...,\n",
       "        -2.10775505e+00, -9.12902187e-01, -4.97360600e+00],\n",
       "       ...,\n",
       "       [-1.51298607e+00, -6.97656145e-01, -4.68421254e+00, ...,\n",
       "         5.05813619e+00, -2.71947099e-01, -5.37935022e+00],\n",
       "       [-4.58732471e+00,  1.12549838e+00, -8.11233956e-03, ...,\n",
       "         3.17841960e+00,  1.01199885e+00, -3.65136976e+00],\n",
       "       [ 7.73740645e-01, -2.17975909e+00,  3.99930141e-01, ...,\n",
       "         2.87606365e-01, -2.62524313e-01, -8.33781515e+00]])"
      ]
     },
     "metadata": {},
     "output_type": "display_data"
    }
   ],
   "source": [
    "matMul = matUniform@matNorm.transpose()\n",
    "display(\"Printado de la matriz: \", matMul)\n",
    "\n",
    "#Descomentar si se quiere ver la forma de la matriz\n",
    "#plt.hist(matMul)\n",
    "#plt.show()\n"
   ]
  },
  {
   "cell_type": "markdown",
   "metadata": {},
   "source": [
    "### 8. Obtén un vector mediante la suma de toda la matriz en el eje 1."
   ]
  },
  {
   "cell_type": "code",
   "execution_count": 9,
   "metadata": {},
   "outputs": [
    {
     "data": {
      "text/plain": [
       "array([  6.83497988,  70.68358595, -21.17288044,  -5.14865943,\n",
       "        14.42537901,  38.24226825,  10.39041141,  29.24217761,\n",
       "        41.99840426,  -4.00211306,  -7.41022907,  43.3007234 ,\n",
       "        33.78510734,  11.63003209,  -4.01153753,  10.82663342,\n",
       "        17.13358497,  54.63417717,  26.36093793,  21.29695165,\n",
       "        12.57678465,  18.41309259,  22.85835903,  54.77472279,\n",
       "         6.7897316 ,  21.46473096, -12.61002175,   7.74903296,\n",
       "        44.16972062,  35.93379907,  27.16180303, -46.2106467 ,\n",
       "         8.5660294 ,  55.27259434,  19.64794106,  -7.05493702,\n",
       "        38.15377149,  37.6082559 , -17.91336944,  22.3631552 ,\n",
       "       -22.81670716,  46.65665434,  15.68282193,  20.08141943,\n",
       "        11.70467915,  59.94864858,  37.92347171,  16.32266204,\n",
       "       -20.53379719,  42.72713886,  28.10581128,  36.5684116 ,\n",
       "         4.22405833,  24.83394153,  24.33864681,  10.52604829,\n",
       "        56.32346633,  37.65349891,  30.35107819, -26.98967187,\n",
       "        50.93781281,  45.72432819,  25.52650295,  33.55765472,\n",
       "        26.41697126,  25.16608656,  23.84312663,  50.11282647,\n",
       "        -3.76738546,  -4.36242197,  41.05499746,  38.23478739,\n",
       "        26.86874329,  12.298809  ,  15.46495388,  48.95695751,\n",
       "        31.679636  ,  25.92027348,  49.23109879,  19.23508167,\n",
       "         2.53796168,  45.52985181, -24.51267203,  31.37766036,\n",
       "        18.81761632,  48.29695341,  -1.45616294,  -3.83121037,\n",
       "        -6.3721922 , -24.68917364,   9.90476362,  -5.29542727,\n",
       "        29.31512896,  12.4359717 ,  14.70100085,   5.05437106,\n",
       "        26.61167424,  31.50814761,  36.67183295, -10.33083456])"
      ]
     },
     "execution_count": 9,
     "metadata": {},
     "output_type": "execute_result"
    }
   ],
   "source": [
    "arraySum = np.sum(matMul, axis=1)\n",
    "arraySum"
   ]
  },
  {
   "cell_type": "markdown",
   "metadata": {},
   "source": [
    "### 9. Dibuja el resultado mediante la función plot de matplotlib."
   ]
  },
  {
   "cell_type": "code",
   "execution_count": 10,
   "metadata": {},
   "outputs": [
    {
     "data": {
      "image/png": "[encoded data removed]",
      "text/plain": [
       "<Figure size 432x288 with 1 Axes>"
      ]
     },
     "metadata": {
      "needs_background": "light"
     },
     "output_type": "display_data"
    }
   ],
   "source": [
    "import matplotlib.pyplot as plt\n",
    "plt.plot(arraySum)\n",
    "plt.show()"
   ]
  },
  {
   "cell_type": "markdown",
   "metadata": {},
   "source": [
    "## Uso de TORCH"
   ]
  },
  {
   "cell_type": "markdown",
   "metadata": {},
   "source": [
    "### 1. Crea una Lista con 100 elementos repetidos."
   ]
  },
  {
   "cell_type": "code",
   "execution_count": 11,
   "metadata": {},
   "outputs": [
    {
     "name": "stdout",
     "output_type": "stream",
     "text": [
      "Longitud de lista:  100 \n",
      "Printado de la lista:  [10, 10, 10, 10, 10, 10, 10, 10, 10, 10, 10, 10, 10, 10, 10, 10, 10, 10, 10, 10, 10, 10, 10, 10, 10, 10, 10, 10, 10, 10, 10, 10, 10, 10, 10, 10, 10, 10, 10, 10, 10, 10, 10, 10, 10, 10, 10, 10, 10, 10, 10, 10, 10, 10, 10, 10, 10, 10, 10, 10, 10, 10, 10, 10, 10, 10, 10, 10, 10, 10, 10, 10, 10, 10, 10, 10, 10, 10, 10, 10, 10, 10, 10, 10, 10, 10, 10, 10, 10, 10, 10, 10, 10, 10, 10, 10, 10, 10, 10, 10]\n"
     ]
    }
   ],
   "source": [
    "#Muchos métodos mostrados anteriormente\n",
    "lista = [10] * 100\n",
    "print(\"Longitud de lista: \", len(lista),\"\\nPrintado de la lista: \", lista)"
   ]
  },
  {
   "cell_type": "markdown",
   "metadata": {},
   "source": [
    "### 2. Transfórmala a Tensor de Torch."
   ]
  },
  {
   "cell_type": "code",
   "execution_count": 12,
   "metadata": {},
   "outputs": [
    {
     "name": "stdout",
     "output_type": "stream",
     "text": [
      "Tipo del tensor:  <class 'torch.Tensor'> \n",
      "Longitud de tensor:  100 \n",
      "Printado el tensor:  tensor([10., 10., 10., 10., 10., 10., 10., 10., 10., 10., 10., 10., 10., 10.,\n",
      "        10., 10., 10., 10., 10., 10., 10., 10., 10., 10., 10., 10., 10., 10.,\n",
      "        10., 10., 10., 10., 10., 10., 10., 10., 10., 10., 10., 10., 10., 10.,\n",
      "        10., 10., 10., 10., 10., 10., 10., 10., 10., 10., 10., 10., 10., 10.,\n",
      "        10., 10., 10., 10., 10., 10., 10., 10., 10., 10., 10., 10., 10., 10.,\n",
      "        10., 10., 10., 10., 10., 10., 10., 10., 10., 10., 10., 10., 10., 10.,\n",
      "        10., 10., 10., 10., 10., 10., 10., 10., 10., 10., 10., 10., 10., 10.,\n",
      "        10., 10.])\n"
     ]
    }
   ],
   "source": [
    "tensor = torch.FloatTensor(lista)\n",
    "print(\"Tipo del tensor: \", type(tensor),\"\\nLongitud de tensor: \", len(tensor),\"\\nPrintado el tensor: \", tensor)"
   ]
  },
  {
   "cell_type": "markdown",
   "metadata": {},
   "source": [
    "### 3. Llévalo a la memoria CUDA.\n",
    "Agregue el reconocimiento de si es posible usar cuda o no "
   ]
  },
  {
   "cell_type": "code",
   "execution_count": 13,
   "metadata": {},
   "outputs": [
    {
     "name": "stdout",
     "output_type": "stream",
     "text": [
      "Dispositivo:  cuda\n",
      "Tipo del tensor:  <class 'torch.Tensor'> \n",
      "Dispositivo 0 \n",
      "Longitud de tensor:  100 \n",
      "Printado el tensor:  tensor([10., 10., 10., 10., 10., 10., 10., 10., 10., 10., 10., 10., 10., 10.,\n",
      "        10., 10., 10., 10., 10., 10., 10., 10., 10., 10., 10., 10., 10., 10.,\n",
      "        10., 10., 10., 10., 10., 10., 10., 10., 10., 10., 10., 10., 10., 10.,\n",
      "        10., 10., 10., 10., 10., 10., 10., 10., 10., 10., 10., 10., 10., 10.,\n",
      "        10., 10., 10., 10., 10., 10., 10., 10., 10., 10., 10., 10., 10., 10.,\n",
      "        10., 10., 10., 10., 10., 10., 10., 10., 10., 10., 10., 10., 10., 10.,\n",
      "        10., 10., 10., 10., 10., 10., 10., 10., 10., 10., 10., 10., 10., 10.,\n",
      "        10., 10.], device='cuda:0')\n"
     ]
    }
   ],
   "source": [
    "#Si tenemos opción de cuda lo usaremos\n",
    "device = torch.device(\"cuda\" if torch.cuda.is_available() else \"cpu\") \n",
    "print(\"Dispositivo: \",device)\n",
    "\n",
    "#Movemos el tensor a la GPU si pudiéramos\n",
    "tensor = tensor.to(device)\n",
    "print(\"Tipo del tensor: \", type(tensor),\"\\nDispositivo\", tensor.get_device(),\"\\nLongitud de tensor: \", len(tensor),\"\\nPrintado el tensor: \", tensor)"
   ]
  },
  {
   "cell_type": "markdown",
   "metadata": {},
   "source": [
    "### 4. Crea un Tensor en cpu de tamaño 100x50 obtenido de una distribución uniforme."
   ]
  },
  {
   "cell_type": "code",
   "execution_count": 14,
   "metadata": {},
   "outputs": [
    {
     "data": {
      "text/plain": [
       "'Printado del tensor: '"
      ]
     },
     "metadata": {},
     "output_type": "display_data"
    },
    {
     "data": {
      "text/plain": [
       "tensor([[0.6038, 0.7866, 0.8028,  ..., 0.6858, 0.6465, 0.2772],\n",
       "        [0.7627, 0.3505, 0.9726,  ..., 0.9912, 0.2488, 0.4302],\n",
       "        [0.6176, 0.7989, 0.1716,  ..., 0.1039, 0.1659, 0.1535],\n",
       "        ...,\n",
       "        [0.7665, 0.6457, 0.6862,  ..., 0.2193, 0.7109, 0.1826],\n",
       "        [0.2976, 0.4785, 0.8409,  ..., 0.2999, 0.4638, 0.0045],\n",
       "        [0.8463, 0.0661, 0.1827,  ..., 0.4540, 0.4728, 0.8987]])"
      ]
     },
     "metadata": {},
     "output_type": "display_data"
    }
   ],
   "source": [
    "tensorCpu = torch.FloatTensor(100, 50).uniform_(0, 1).to(\"cpu\")\n",
    "display(\"Printado del tensor: \", tensorCpu)\n",
    "\n",
    "#Descomentar si se quiere ver la forma de la matriz\n",
    "#plt.hist(tensorCpu)\n",
    "#plt.show()"
   ]
  },
  {
   "cell_type": "markdown",
   "metadata": {},
   "source": [
    "### 5. Crea un Tensor en cuda de tamaño 100x50 obtenido de una distribución normal."
   ]
  },
  {
   "cell_type": "code",
   "execution_count": 15,
   "metadata": {},
   "outputs": [
    {
     "data": {
      "text/plain": [
       "'Printado del tensor: '"
      ]
     },
     "metadata": {},
     "output_type": "display_data"
    },
    {
     "data": {
      "text/plain": [
       "tensor([[ 0.7698,  0.9713,  1.2531,  ...,  1.8461,  1.9072,  2.5348],\n",
       "        [-0.6570,  1.6392,  2.2095,  ...,  1.5601,  2.4747,  0.7176],\n",
       "        [ 1.9986,  0.7660, -0.3108,  ...,  0.0405,  0.5072,  2.0068],\n",
       "        ...,\n",
       "        [ 1.9845,  0.3153,  3.0939,  ...,  0.3900,  0.9734,  0.1082],\n",
       "        [ 1.8657,  1.1335,  2.1843,  ...,  1.8384,  1.1829, -1.1091],\n",
       "        [ 2.3409,  0.6497,  0.9964,  ..., -0.9573,  2.0863, -0.5156]],\n",
       "       device='cuda:0')"
      ]
     },
     "metadata": {},
     "output_type": "display_data"
    }
   ],
   "source": [
    "tensorGpu = torch.normal(mean=1, std=1, size=(100,50)).to(\"cuda\")\n",
    "display(\"Printado del tensor: \", tensorGpu)\n",
    "\n",
    "#Descomentar si se quiere ver la forma de la matriz\n",
    "#plt.hist(tensorGpu.cpu())\n",
    "#plt.show()"
   ]
  },
  {
   "cell_type": "markdown",
   "metadata": {},
   "source": [
    "### 6. Multiplica ambos tensores mediante multiplicación de matrices. En caso que no hayas podido, explica el motivo y solvéntalo."
   ]
  },
  {
   "cell_type": "markdown",
   "metadata": {},
   "source": [
    "Al estar en memorias diferentes \"cpu\" y \"gpu\" no se puede realizar la multiplicación, deberán estar en una misma memoria para operar entre si, entonces la siguiente instrucción no nos vale\n",
    "\n",
    "tensorMult = tensorCpu@tensorGpu.transpose(0,1)"
   ]
  },
  {
   "cell_type": "code",
   "execution_count": 21,
   "metadata": {},
   "outputs": [
    {
     "name": "stdout",
     "output_type": "stream",
     "text": [
      "Tiempo de proceso en cpu :  0.0016543865203857422\n"
     ]
    },
    {
     "data": {
      "text/plain": [
       "'Printado del tensor: '"
      ]
     },
     "metadata": {},
     "output_type": "display_data"
    },
    {
     "data": {
      "text/plain": [
       "tensor([[29.2045, 28.0846, 28.3082,  ..., 34.8824, 34.4334, 23.6316],\n",
       "        [26.9935, 27.0103, 27.2601,  ..., 33.1246, 34.2859, 25.6586],\n",
       "        [21.3111, 23.8649, 25.4047,  ..., 27.6122, 32.9488, 25.8117],\n",
       "        ...,\n",
       "        [30.4589, 31.6358, 27.6852,  ..., 37.2022, 40.1153, 29.4127],\n",
       "        [27.4537, 29.2181, 28.6100,  ..., 29.5868, 32.4157, 23.9892],\n",
       "        [23.9106, 24.0591, 28.5066,  ..., 27.8139, 32.2202, 24.5474]])"
      ]
     },
     "metadata": {},
     "output_type": "display_data"
    },
    {
     "name": "stdout",
     "output_type": "stream",
     "text": [
      "Tiempo de proceso en gpu :  0.0006561279296875\n"
     ]
    },
    {
     "data": {
      "text/plain": [
       "'Printado del tensor: '"
      ]
     },
     "metadata": {},
     "output_type": "display_data"
    },
    {
     "data": {
      "text/plain": [
       "tensor([[29.2045, 28.0846, 28.3082,  ..., 34.8824, 34.4334, 23.6316],\n",
       "        [26.9935, 27.0103, 27.2601,  ..., 33.1246, 34.2859, 25.6586],\n",
       "        [21.3111, 23.8649, 25.4047,  ..., 27.6122, 32.9488, 25.8117],\n",
       "        ...,\n",
       "        [30.4589, 31.6358, 27.6852,  ..., 37.2022, 40.1153, 29.4127],\n",
       "        [27.4537, 29.2180, 28.6100,  ..., 29.5868, 32.4157, 23.9892],\n",
       "        [23.9106, 24.0591, 28.5066,  ..., 27.8139, 32.2202, 24.5474]],\n",
       "       device='cuda:0')"
      ]
     },
     "metadata": {},
     "output_type": "display_data"
    }
   ],
   "source": [
    "t1 = time.time()\n",
    "#Pasamos de cuda a cpu y procesamos ahí\n",
    "tensorMultCpu = tensorCpu@tensorGpu.cpu().transpose(0,1)\n",
    "print(\"Tiempo de proceso en cpu : \", time.time()-t1)\n",
    "display(\"Printado del tensor: \", tensorMultCpu)\n",
    "\n",
    "t1 = time.time()\n",
    "#Pasamos de cpu a cuda y procesamos ahí\n",
    "tensorMultGpu = tensorCpu.cuda()@tensorGpu.transpose(0,1)\n",
    "print(\"Tiempo de proceso en gpu : \", time.time()-t1)\n",
    "display(\"Printado del tensor: \", tensorMultGpu)\n",
    "\n",
    "#Descomentar si se quiere ver la forma del tensor\n",
    "#plt.hist(tensorMultCpu)\n",
    "#plt.show()"
   ]
  },
  {
   "cell_type": "markdown",
   "metadata": {},
   "source": [
    "#### Comentario al ejercicio 6\n",
    "Observamos una mejoría de tiempo en la realización de la multiplicación en la GPU"
   ]
  },
  {
   "cell_type": "markdown",
   "metadata": {},
   "source": [
    "### 7. Obtén un tensor de 1 dimensión mediante la suma de toda la matriz en el eje 1."
   ]
  },
  {
   "cell_type": "code",
   "execution_count": 17,
   "metadata": {},
   "outputs": [
    {
     "data": {
      "text/plain": [
       "tensor([2573.9907, 2493.9922, 2252.1685, 2677.0046, 2721.8147, 2564.1458,\n",
       "        2541.3677, 2387.5403, 2260.9312, 2444.9600, 2689.8789, 2697.2532,\n",
       "        2631.6111, 2490.2197, 2110.5928, 2760.6362, 2372.4863, 2798.3770,\n",
       "        2641.8706, 2656.0862, 2480.2148, 2877.1938, 2404.4792, 2644.5237,\n",
       "        3340.8396, 2251.3315, 2403.9387, 2696.0552, 2551.8589, 2355.8979,\n",
       "        2780.6143, 2714.7021, 2747.7725, 2892.0056, 2614.5920, 2289.3298,\n",
       "        2385.5669, 2535.7671, 2229.7451, 2195.6836, 2350.4673, 2180.4121,\n",
       "        2436.0317, 2562.0337, 2250.2393, 2778.5398, 2517.7512, 2589.9580,\n",
       "        2593.0244, 2512.0747, 2473.9048, 2409.9490, 2543.4604, 2402.6682,\n",
       "        2231.6267, 2558.9600, 3060.0740, 1975.1698, 2806.2085, 2441.9829,\n",
       "        2675.7080, 2652.0303, 2610.4878, 2242.9548, 2447.2407, 2713.1599,\n",
       "        2861.2263, 2340.9294, 2722.6001, 2422.6746, 2284.2778, 2581.5078,\n",
       "        2595.8813, 2532.7563, 2581.7100, 2517.9014, 2440.7793, 2366.8252,\n",
       "        2514.2222, 2651.7729, 2200.1089, 2366.0239, 2554.0051, 2244.8596,\n",
       "        2378.8042, 2622.0283, 2446.7407, 2538.4451, 2562.6172, 2778.6978,\n",
       "        2627.6123, 2255.3887, 2667.2512, 2525.2827, 2096.6333, 2444.8848,\n",
       "        2540.0852, 2826.8916, 2399.7393, 2290.7329], device='cuda:0')"
      ]
     },
     "execution_count": 17,
     "metadata": {},
     "output_type": "execute_result"
    }
   ],
   "source": [
    "tensorSum = torch.sum(tensorMultGpu, axis=1)\n",
    "tensorSum\n"
   ]
  },
  {
   "cell_type": "markdown",
   "metadata": {},
   "source": [
    "### 8. Dibuja el resultado mediante la función plot de matplotlib."
   ]
  },
  {
   "cell_type": "code",
   "execution_count": 18,
   "metadata": {},
   "outputs": [
    {
     "data": {
      "image/png": "[encoded data removed]",
      "text/plain": [
       "<Figure size 432x288 with 1 Axes>"
      ]
     },
     "metadata": {
      "needs_background": "light"
     },
     "output_type": "display_data"
    }
   ],
   "source": [
    "plt.plot(tensorSum.cpu())\n",
    "plt.show()"
   ]
  },
  {
   "cell_type": "markdown",
   "metadata": {},
   "source": [
    "### 9. Este proceso deberá repetirse 10 veces.\n",
    "Como ampliación realizaremos el ejercicio como una función y lo probaremos con diferentes cargas y procesamientos en las diferentes memorias.\n",
    "\n",
    "El primer código es la copia de todo lo anterior en un bucle de 10 iteraciones.\n",
    "\n",
    "El Segundo código es el uso de una matriz cubica de 10x100x50, la multiplicación matricial se realizara como \"por capas\", esta ya esta bien orientada para evitar realizar la traspuesta ( no estoy del todo seguro si se puede realizar asi, pero la multiplicación mantiene el formato gaussiano)\n",
    "\n",
    "Si se desean ver las gráficas la variable de la función graph deberá estar a True"
   ]
  },
  {
   "cell_type": "code",
   "execution_count": 44,
   "metadata": {},
   "outputs": [
    {
     "name": "stdout",
     "output_type": "stream",
     "text": [
      "Realizando prueba con tensor normal en cpu y tensor uniform en cpu,  proceso en cpu\n",
      "tiempo del bucle :  0.0026438236236572266\n",
      "Realizando prueba con tensor normal en gpu y tensor uniform en gpu, proceso en gpu\n",
      "tiempo del bucle :  0.010125398635864258\n",
      "Realizando prueba con tensor normal en gpu y tensor uniform en cpu,  proceso en gpu\n",
      "tiempo del bucle :  0.002583026885986328\n",
      "Realizando prueba con tensor normal en cpu y tensor uniform en gpu,  proceso en cpu\n",
      "tiempo del bucle :  0.0031080245971679688\n"
     ]
    }
   ],
   "source": [
    "def Tensor_mull(device1, device2, graph):\n",
    "    timeLoop = 0\n",
    "    for _ in range(10):\n",
    "        t1 = time.time()\n",
    "        tensorNormal = torch.normal(mean=1, std=1, size=(100,50)).to(device1)\n",
    "        tensorUniform = torch.FloatTensor(100, 50).uniform_(0, 1).to(device2)\n",
    "        tensorMultiplicado = tensorUniform.to(device1)@tensorNormal.transpose(0,1)\n",
    "        tensorSuma = torch.sum(tensorMultiplicado, axis=1)\n",
    "\n",
    "        t = time.time()-t1\n",
    "        timeLoop+=t\n",
    "        if graph:\n",
    "            print(\"tiempo de proceso en dispositivo : \", t)\n",
    "\n",
    "            #Comentar si se quiere ver la prueba de tiempos con mejor detalle\n",
    "            plt.plot(tensorSuma.cpu())\n",
    "            plt.show()\n",
    "    print(\"tiempo del bucle : \", timeLoop)\n",
    "\n",
    "print(\"Realizando prueba con tensor normal en cpu y tensor uniform en cpu,  proceso en cpu\")\n",
    "Tensor_mull(\"cpu\", \"cpu\", False)\n",
    "\n",
    "print(\"Realizando prueba con tensor normal en gpu y tensor uniform en gpu, proceso en gpu\")\n",
    "Tensor_mull(\"cuda\", \"cuda\", False)\n",
    "\n",
    "print(\"Realizando prueba con tensor normal en gpu y tensor uniform en cpu,  proceso en gpu\")\n",
    "Tensor_mull(\"cuda\", \"cpu\", False)\n",
    "\n",
    "print(\"Realizando prueba con tensor normal en cpu y tensor uniform en gpu,  proceso en cpu\")\n",
    "Tensor_mull(\"cpu\", \"cuda\", False)\n",
    "\n"
   ]
  },
  {
   "cell_type": "code",
   "execution_count": 45,
   "metadata": {},
   "outputs": [
    {
     "name": "stdout",
     "output_type": "stream",
     "text": [
      "Realizando prueba con tensor normal en cpu y tensor uniform en cpu,  proceso en cpu\n",
      "tiempo del bucle :  0.0014164447784423828\n",
      "Realizando prueba con tensor normal en gpu y tensor uniform en gpu, proceso en gpu\n",
      "tiempo del bucle :  0.002311229705810547\n",
      "Realizando prueba con tensor normal en gpu y tensor uniform en cpu,  proceso en gpu\n",
      "tiempo del bucle :  0.001088857650756836\n",
      "Realizando prueba con tensor normal en cpu y tensor uniform en gpu,  proceso en cpu\n",
      "tiempo del bucle :  0.002351045608520508\n"
     ]
    }
   ],
   "source": [
    "def Tensor_mull(device1, device2, graph):\n",
    "    t1 = time.time()\n",
    "    tensorNormal = torch.normal(mean=1, std=1, size=(10,50,100)).to(device1)\n",
    "    tensorUniform = torch.FloatTensor(10, 100,50).uniform_(0, 1).to(device2)\n",
    "    tensorMultiplicado = tensorUniform.to(device1)@tensorNormal\n",
    "    tensorSuma = torch.sum(tensorMultiplicado, axis=1)\n",
    "    t = time.time()-t1\n",
    "\n",
    "    if graph:\n",
    "        #Descomentar si se quiere ver la forma del tensor debes ser parecido a una campana de gauss\n",
    "        #for i in range(10):\n",
    "        #    plt.hist(tensorMultiplicado[i,:,:].cpu())\n",
    "        #    plt.show()\n",
    "\n",
    "        #Comentar si se quiere ver la prueba de tiempos con mejor detalle\n",
    "        plt.plot(tensorSuma.cpu())\n",
    "        plt.show()\n",
    "    print(\"tiempo del bucle : \", t)\n",
    "\n",
    "print(\"Realizando prueba con tensor normal en cpu y tensor uniform en cpu,  proceso en cpu\")\n",
    "Tensor_mull(\"cpu\", \"cpu\", False)\n",
    "\n",
    "print(\"Realizando prueba con tensor normal en gpu y tensor uniform en gpu, proceso en gpu\")\n",
    "Tensor_mull(\"cuda\", \"cuda\", False)\n",
    "\n",
    "print(\"Realizando prueba con tensor normal en gpu y tensor uniform en cpu,  proceso en gpu\")\n",
    "Tensor_mull(\"cuda\", \"cpu\", False)\n",
    "\n",
    "print(\"Realizando prueba con tensor normal en cpu y tensor uniform en gpu,  proceso en cpu\")\n",
    "Tensor_mull(\"cpu\", \"cuda\", False)"
   ]
  },
  {
   "cell_type": "markdown",
   "metadata": {},
   "source": [
    "#### Comentario al ejercicio 9\n",
    "Tras realizar varias pruebas con diferentes combinaciones se considera que:\n",
    "\n",
    "Aunque se disponga una elevada potencia de computo en la gráfica el retardo que mover el tensor a otro dispositivo amortigua el rendimiento, esto se observa en el primer código siendo el de gpu-gpu el mas lento, tiene que generar en cada iteración dos matrices nueva y ejecutarlas, en cambio si solo se genera una vez en masa, segundo código, prácticamente es de los mejores tiempos\n",
    "\n",
    "Entre los dos ejercicios la mejora de rendimiento se observa claramente cuando se esta trabajando desde el principio en el mismo dispositivo, sin traspaso intermedio de memoria o nuevas creaciones, siendo aproximadamente un 500% en la GPU y un 200% en la CPU\n",
    "\n",
    "La conclusion de la ampliación, es que el traspaso de memoria o creación intermitente de esta relantiza el tiempo, y provoca un cuello de botella"
   ]
  }
 ],
 "metadata": {
  "kernelspec": {
   "display_name": "Python 3.10.6 64-bit",
   "language": "python",
   "name": "python3"
  },
  "language_info": {
   "codemirror_mode": {
    "name": "ipython",
    "version": 3
   },
   "file_extension": ".py",
   "mimetype": "text/x-python",
   "name": "python",
   "nbconvert_exporter": "python",
   "pygments_lexer": "ipython3",
   "version": "3.10.6"
  },
  "orig_nbformat": 4,
  "vscode": {
   "interpreter": {
    "hash": "916dbcbb3f70747c44a77c7bcd40155683ae19c65e1c03b4aa3499c5328201f1"
   }
  }
 },
 "nbformat": 4,
 "nbformat_minor": 2
}
