{
 "cells": [
  {
   "cell_type": "markdown",
   "metadata": {},
   "source": [
    "# Arquitecturas Especializadas\n",
    "\n",
    "### Profesor: Juan Mario Haut Hurtado\n",
    "### 4º Ingeniería en Informática en Ingeniería de Computadores\n",
    "__________________________________________________________________"
   ]
  },
  {
   "cell_type": "markdown",
   "metadata": {},
   "source": [
    "# Torch and Numpy\n",
    "\n",
    "Más información en: http://pytorch.org/docs/torch.html#math-operations"
   ]
  },
  {
   "cell_type": "markdown",
   "metadata": {},
   "source": [
    "Importamos las librerías necesarias"
   ]
  },
  {
   "cell_type": "code",
   "execution_count": 1,
   "metadata": {},
   "outputs": [],
   "source": [
    "import torch\n",
    "import numpy as np"
   ]
  },
  {
   "cell_type": "code",
   "execution_count": 2,
   "metadata": {},
   "outputs": [
    {
     "name": "stdout",
     "output_type": "stream",
     "text": [
      "\n",
      "numpy array: [[0 1 2 3 4]\n",
      " [5 6 7 8 9]] \n",
      "torch tensor: tensor([[0, 1, 2, 3, 4],\n",
      "        [5, 6, 7, 8, 9]]) \n",
      "tensor to array: [[0 1 2 3 4]\n",
      " [5 6 7 8 9]]\n"
     ]
    }
   ],
   "source": [
    "# Creación de numpy\n",
    "dato_numpy = np.array([a for a in range(10)])\n",
    "# convertimos el vector de 10 a una matriz de 2x5\n",
    "dato_numpy = dato_numpy.reshape(2,5)\n",
    "# Convertir numpy a tensores de Torch\n",
    "dato_torch = torch.from_numpy(dato_numpy)\n",
    "# Convertir tensor Torch a numpy array\n",
    "tensor2array = dato_torch.numpy()\n",
    "print('\\nnumpy array:', dato_numpy, '\\ntorch tensor:', dato_torch, '\\ntensor to array:', tensor2array)"
   ]
  },
  {
   "cell_type": "code",
   "execution_count": 3,
   "metadata": {},
   "outputs": [
    {
     "name": "stdout",
     "output_type": "stream",
     "text": [
      "\n",
      "abs \n",
      "numpy:  [1 2 1 2] \n",
      "torch:  tensor([1., 2., 1., 2.])\n"
     ]
    }
   ],
   "source": [
    "# Valor absoluto\n",
    "data = [-1, -2, 1, 2]\n",
    "tensor = torch.FloatTensor(data)  # Conversión a float (no es double)\n",
    "print(\n",
    "    '\\nabs',\n",
    "    '\\nnumpy: ', np.abs(data),\n",
    "    '\\ntorch: ', torch.abs(tensor)\n",
    ")"
   ]
  },
  {
   "cell_type": "code",
   "execution_count": 4,
   "metadata": {},
   "outputs": [
    {
     "name": "stdout",
     "output_type": "stream",
     "text": [
      "tensor([-1., -2.,  1.,  2.])\n",
      "tensor([1., 2., 1., 2.])\n"
     ]
    }
   ],
   "source": [
    "print(tensor)\n",
    "print(tensor.abs())"
   ]
  },
  {
   "cell_type": "code",
   "execution_count": 5,
   "metadata": {},
   "outputs": [
    {
     "name": "stdout",
     "output_type": "stream",
     "text": [
      "\n",
      "cos \n",
      "numpy:  [ 0.54030231 -0.41614684  0.54030231 -0.41614684] \n",
      "torch:  tensor([ 0.5403, -0.4161,  0.5403, -0.4161])\n"
     ]
    }
   ],
   "source": [
    "# Coseno\n",
    "print(\n",
    "    '\\ncos',\n",
    "    '\\nnumpy: ', np.cos(data),\n",
    "    '\\ntorch: ', torch.cos(tensor)\n",
    ")"
   ]
  },
  {
   "cell_type": "code",
   "execution_count": 6,
   "metadata": {},
   "outputs": [
    {
     "data": {
      "text/plain": [
       "tensor([0.2689, 0.1192, 0.7311, 0.8808])"
      ]
     },
     "execution_count": 6,
     "metadata": {},
     "output_type": "execute_result"
    }
   ],
   "source": [
    "tensor.sigmoid()"
   ]
  },
  {
   "cell_type": "code",
   "execution_count": 7,
   "metadata": {},
   "outputs": [
    {
     "data": {
      "text/plain": [
       "tensor([0.3679, 0.1353, 2.7183, 7.3891])"
      ]
     },
     "execution_count": 7,
     "metadata": {},
     "output_type": "execute_result"
    }
   ],
   "source": [
    "tensor.exp()"
   ]
  },
  {
   "cell_type": "code",
   "execution_count": 11,
   "metadata": {},
   "outputs": [
    {
     "name": "stdout",
     "output_type": "stream",
     "text": [
      "\n",
      "Media \n",
      "numpy:  2.5 \n",
      "torch:  tensor(2.5000)\n"
     ]
    }
   ],
   "source": [
    "# Media\n",
    "print(\n",
    "    '\\nMedia',\n",
    "    '\\nnumpy: ', np.average(tensor),\n",
    "    '\\ntorch: ', torch.mean(tensor)\n",
    ")"
   ]
  },
  {
   "cell_type": "code",
   "execution_count": 9,
   "metadata": {},
   "outputs": [
    {
     "name": "stdout",
     "output_type": "stream",
     "text": [
      "\n",
      "Multiplicación de Matrices (matmul) \n",
      "numpy:  [[ 7 10]\n",
      " [15 22]] \n",
      "numpy:  [[ 7 10]\n",
      " [15 22]] \n",
      "torch:  tensor([[ 7., 10.],\n",
      "        [15., 22.]]) \n",
      "torch:  tensor([[ 7., 10.],\n",
      "        [15., 22.]])\n",
      "--------------------------------------------------\n",
      "\n",
      "Multiplicación de Matrices (matmul) \n",
      "numpy:  [[ 1  4]\n",
      " [ 9 16]] \n",
      "numpy:  [[ 1  4]\n",
      " [ 9 16]] \n",
      "torch:  tensor([[ 1.,  4.],\n",
      "        [ 9., 16.]]) \n",
      "torch:  tensor([[ 1.,  4.],\n",
      "        [ 9., 16.]])\n",
      "--------------------------------------------------\n"
     ]
    }
   ],
   "source": [
    "# Multiplicación de matrices\n",
    "data = np.array([[1,2], [3,4]])\n",
    "tensor = torch.FloatTensor(data)  # Conversión a float (32bits)\n",
    "# Método correcto\n",
    "print(\n",
    "    '\\nMultiplicación de Matrices (matmul)',\n",
    "    '\\nnumpy: ', np.matmul(data, data),      # [[7, 10], [15, 22]]\n",
    "    '\\nnumpy: ', data @ data,                # [[7, 10], [15, 22]]\n",
    "    '\\ntorch: ', torch.mm(tensor, tensor),   # [[7, 10], [15, 22]]\n",
    "    '\\ntorch: ', tensor @ tensor             # [[7, 10], [15, 22]]\n",
    ")\n",
    "\n",
    "print(\"--------------------------------------------------\")\n",
    "\n",
    "\n",
    "# Método incorrecto: Esto es multiplicar elemento a elemento\n",
    "print(\n",
    "    '\\nMultiplicación de Matrices (matmul)',\n",
    "    '\\nnumpy: ', np.multiply(data, data),\n",
    "    '\\nnumpy: ', data*data,\n",
    "    '\\ntorch: ', torch.mul(tensor, tensor),\n",
    "    '\\ntorch: ', tensor*tensor\n",
    ")\n",
    "\n",
    "print(\"--------------------------------------------------\")"
   ]
  },
  {
   "cell_type": "markdown",
   "metadata": {},
   "source": [
    "Muy importante: Multiplicar matrices no es multiplicarlas elemento a elemento."
   ]
  }
 ],
 "metadata": {
  "kernelspec": {
   "display_name": "Python 3.10.6 64-bit",
   "language": "python",
   "name": "python3"
  },
  "language_info": {
   "codemirror_mode": {
    "name": "ipython",
    "version": 3
   },
   "file_extension": ".py",
   "mimetype": "text/x-python",
   "name": "python",
   "nbconvert_exporter": "python",
   "pygments_lexer": "ipython3",
   "version": "3.10.6"
  },
  "vscode": {
   "interpreter": {
    "hash": "916dbcbb3f70747c44a77c7bcd40155683ae19c65e1c03b4aa3499c5328201f1"
   }
  }
 },
 "nbformat": 4,
 "nbformat_minor": 2
}
