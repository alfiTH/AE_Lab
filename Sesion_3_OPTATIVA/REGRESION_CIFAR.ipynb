{
 "cells": [
  {
   "cell_type": "markdown",
   "metadata": {},
   "source": [
    "# Reconstrucción de números escritos a mano con MLPr (MultiLayer Perceptron Regression)"
   ]
  },
  {
   "cell_type": "code",
   "execution_count": 1,
   "metadata": {},
   "outputs": [
    {
     "name": "stdout",
     "output_type": "stream",
     "text": [
      "Using PyTorch version: 1.12.1+cu102  Device: cuda\n"
     ]
    }
   ],
   "source": [
    "%matplotlib inline\n",
    "\n",
    "#Importamos las librerías a usar\n",
    "import torch                                #Tensores\n",
    "import torch.nn as nn                       #Redes\n",
    "import torch.nn.functional as F             #Funciones de activación\n",
    "from torchvision import datasets, transforms#Dataset\n",
    "\n",
    "import numpy as np                          #Vectores/Arrays\n",
    "import matplotlib.pyplot as plt             #Gráficas\n",
    "\n",
    "#Averiguamos si es posible usar cuda\n",
    "if torch.cuda.is_available():\n",
    "    device = torch.device('cuda')\n",
    "else:\n",
    "    device = torch.device('cpu')\n",
    "    \n",
    "#Mostramos el resultado\n",
    "print('Using PyTorch version:', torch.__version__, ' Device:', device)"
   ]
  },
  {
   "cell_type": "markdown",
   "metadata": {},
   "source": [
    "## Creación de los cargadores de datos."
   ]
  },
  {
   "cell_type": "code",
   "execution_count": 2,
   "metadata": {},
   "outputs": [
    {
     "name": "stdout",
     "output_type": "stream",
     "text": [
      "Downloading http://yann.lecun.com/exdb/mnist/train-images-idx3-ubyte.gz\n",
      "Downloading http://yann.lecun.com/exdb/mnist/train-images-idx3-ubyte.gz to /tmp/data/MNIST/raw/train-images-idx3-ubyte.gz\n"
     ]
    },
    {
     "name": "stderr",
     "output_type": "stream",
     "text": [
      "100%|██████████| 9912422/9912422 [00:00<00:00, 25847729.63it/s]\n"
     ]
    },
    {
     "name": "stdout",
     "output_type": "stream",
     "text": [
      "Extracting /tmp/data/MNIST/raw/train-images-idx3-ubyte.gz to /tmp/data/MNIST/raw\n"
     ]
    },
    {
     "name": "stderr",
     "output_type": "stream",
     "text": [
      "100%|██████████| 28881/28881 [00:00<00:00, 5914540.00it/s]"
     ]
    },
    {
     "name": "stdout",
     "output_type": "stream",
     "text": [
      "\n",
      "Downloading http://yann.lecun.com/exdb/mnist/train-labels-idx1-ubyte.gz\n",
      "Downloading http://yann.lecun.com/exdb/mnist/train-labels-idx1-ubyte.gz to /tmp/data/MNIST/raw/train-labels-idx1-ubyte.gz\n",
      "Extracting /tmp/data/MNIST/raw/train-labels-idx1-ubyte.gz to /tmp/data/MNIST/raw\n",
      "\n",
      "Downloading http://yann.lecun.com/exdb/mnist/t10k-images-idx3-ubyte.gz\n"
     ]
    },
    {
     "name": "stderr",
     "output_type": "stream",
     "text": [
      "\n"
     ]
    },
    {
     "name": "stdout",
     "output_type": "stream",
     "text": [
      "Downloading http://yann.lecun.com/exdb/mnist/t10k-images-idx3-ubyte.gz to /tmp/data/MNIST/raw/t10k-images-idx3-ubyte.gz\n"
     ]
    },
    {
     "name": "stderr",
     "output_type": "stream",
     "text": [
      "100%|██████████| 1648877/1648877 [00:00<00:00, 7585568.11it/s]\n"
     ]
    },
    {
     "name": "stdout",
     "output_type": "stream",
     "text": [
      "Extracting /tmp/data/MNIST/raw/t10k-images-idx3-ubyte.gz to /tmp/data/MNIST/raw\n",
      "\n",
      "Downloading http://yann.lecun.com/exdb/mnist/t10k-labels-idx1-ubyte.gz\n",
      "Downloading http://yann.lecun.com/exdb/mnist/t10k-labels-idx1-ubyte.gz to /tmp/data/MNIST/raw/t10k-labels-idx1-ubyte.gz\n"
     ]
    },
    {
     "name": "stderr",
     "output_type": "stream",
     "text": [
      "100%|██████████| 4542/4542 [00:00<00:00, 10154866.08it/s]"
     ]
    },
    {
     "name": "stdout",
     "output_type": "stream",
     "text": [
      "Extracting /tmp/data/MNIST/raw/t10k-labels-idx1-ubyte.gz to /tmp/data/MNIST/raw\n",
      "\n"
     ]
    },
    {
     "name": "stderr",
     "output_type": "stream",
     "text": [
      "\n"
     ]
    }
   ],
   "source": [
    "#tamaño del batch o lotes\n",
    "batch_size = 128\n",
    "\n",
    "#Realizamos la trasformaciones a tensor y a un escalado\n",
    "transforms = transforms.Compose([transforms.ToTensor(),\n",
    "                                 transforms.Normalize((0.1307,), (0.3081,)),\n",
    "                                ])\n",
    "\n",
    "#Descargamos el dataset de entrenamiento con MNIST\n",
    "train_dataset = datasets.MNIST('/tmp/data', \n",
    "                               train=True, \n",
    "                               download=True, \n",
    "                               transform=transforms)\n",
    "\n",
    "#Descargamos el dataset de validación con MNIST\n",
    "validation_dataset = datasets.MNIST('/tmp/data', \n",
    "                                    train=False, \n",
    "                                    transform=transforms)\n",
    "\n",
    "#Realizamos los cargadores de entrenamiento y validación con el tamaño de batch establecido anteriormente\n",
    "#Cargador de entrenamiento\n",
    "train_loader = torch.utils.data.DataLoader(dataset=train_dataset, \n",
    "                                           batch_size=batch_size, \n",
    "                                           shuffle=True)\n",
    "#cargador de validación\n",
    "validation_loader = torch.utils.data.DataLoader(dataset=validation_dataset, \n",
    "                                                batch_size=batch_size, \n",
    "                                                shuffle=False)"
   ]
  },
  {
   "cell_type": "markdown",
   "metadata": {},
   "source": [
    "The train and test data are provided via data loaders that provide iterators over the datasets. The first element of training data (`X_train`) is a 4th-order tensor of size (`batch_size`, 1, 28, 28), i.e. it consists of a batch of images of size 1x28x28 pixels. `y_train` is a vector containing the correct classes (\"0\", \"1\", ..., \"9\") for each training digit."
   ]
  },
  {
   "cell_type": "code",
   "execution_count": 3,
   "metadata": {},
   "outputs": [
    {
     "name": "stdout",
     "output_type": "stream",
     "text": [
      "X_train: torch.Size([128, 1, 28, 28]) type: torch.FloatTensor\n",
      "y_train: torch.Size([128]) type: torch.LongTensor\n"
     ]
    }
   ],
   "source": [
    "#Mostramos los tamaños de los lotes, viéndose 128 del lote, 1 capa de la imagen, 28 y 28 del tamaño de la imagen \n",
    "for (X_train, y_train) in train_loader:\n",
    "    print('X_train:', X_train.size(), 'type:', X_train.type())\n",
    "    print('y_train:', y_train.size(), 'type:', y_train.type())\n",
    "    break"
   ]
  },
  {
   "cell_type": "markdown",
   "metadata": {},
   "source": [
    "Mostramos los 10 primeros dígitos:"
   ]
  },
  {
   "cell_type": "code",
   "execution_count": 4,
   "metadata": {},
   "outputs": [
    {
     "data": {
      "image/png": "[encoded data removed]",
      "text/plain": [
       "<Figure size 720x72 with 10 Axes>"
      ]
     },
     "metadata": {
      "needs_background": "light"
     },
     "output_type": "display_data"
    }
   ],
   "source": [
    "pltsize=1\n",
    "#creamos un \"marco\" para mostrar 10 figuras\n",
    "plt.figure(figsize=(10*pltsize, pltsize))\n",
    "\n",
    "#Recorremos 10 figuras del ultimo lote obtenido en el anterior código\n",
    "for i in range(10):\n",
    "    #Creamos division de 1 a 10 figuras y las posicionamos en su orden\n",
    "    plt.subplot(1,10,i+1)\n",
    "    plt.axis('off')\n",
    "    #Mostramos la i-esima imagen, eliminando la dimension de la capa para que la imagen sea solo de 28x28\n",
    "    plt.imshow(X_train[i,:,:,:].numpy().reshape(28,28), cmap=\"gray_r\")\n",
    "    plt.title('Class: '+str(y_train[i].item()))"
   ]
  },
  {
   "cell_type": "markdown",
   "metadata": {},
   "source": [
    "## Definición del modelo MLP.\n",
    "\n",
    "Este modelo tiene 3 capas: La primera con 50 neuronas, la segunda con 5, la tercera con 50 y la de salida con 784.\n",
    "Función de activación Sigmoide excepto para la última que no tendrá ninguna.\n",
    "\n"
   ]
  },
  {
   "cell_type": "code",
   "execution_count": 5,
   "metadata": {},
   "outputs": [],
   "source": [
    "#Definimos la red \n",
    "class Net(nn.Module):\n",
    "    #Definición de la topografía de la red\n",
    "    def __init__(self):\n",
    "        super(Net, self).__init__()\n",
    "        self.fc1 = nn.Linear(28*28, 50) #Primera capa. Entrada de la imagen rgb de 28*28 a una salida de 50\n",
    "        self.fc2 = nn.Linear(50, 5)     #Segunda capa. Entrada de 50 a 5\n",
    "        self.fc3 = nn.Linear(5, 50)     #Tercera capa. Entrada de 5 a 50\n",
    "        self.fc4 = nn.Linear(50, 28*28) #Ultima capa. Entrada de 50 a 784 \n",
    "\n",
    "    #Definición de funciones de activación\n",
    "    def forward(self, x):\n",
    "        x = x.view(-1, 28*28)       #pasamos al matriz 28x28 a vector de una dimensión.\n",
    "        x = F.sigmoid(self.fc1(x))  #Sigmoide en la primera capa\n",
    "        x = F.sigmoid(self.fc2(x))  #Sigmoide en la segunda capa\n",
    "        x = F.sigmoid(self.fc3(x))  #Sigmoide en la tercera capa\n",
    "        return self.fc4(x)          #Terminamos con la ultima capa sin función de activación"
   ]
  },
  {
   "cell_type": "markdown",
   "metadata": {},
   "source": [
    "## Creación del modelo, optimizador y función de pérdida.\n"
   ]
  },
  {
   "cell_type": "code",
   "execution_count": 6,
   "metadata": {},
   "outputs": [
    {
     "name": "stdout",
     "output_type": "stream",
     "text": [
      "Net(\n",
      "  (fc1): Linear(in_features=784, out_features=50, bias=True)\n",
      "  (fc2): Linear(in_features=50, out_features=5, bias=True)\n",
      "  (fc3): Linear(in_features=5, out_features=50, bias=True)\n",
      "  (fc4): Linear(in_features=50, out_features=784, bias=True)\n",
      ")\n"
     ]
    }
   ],
   "source": [
    "#Instanciamos la red con el dispositivo establecido en el primer código, cuda o cpu\n",
    "model = Net().to(device)\n",
    "#Creamos el optimizador tipo Adam\n",
    "optimizer = torch.optim.Adam(model.parameters(), lr=1e-3)\n",
    "#Usamos MSE para la función de perdida\n",
    "criterion = nn.MSELoss()\n",
    "\n",
    "#Imprimimos el resultado de como a quedado la red\n",
    "print(model)"
   ]
  },
  {
   "cell_type": "markdown",
   "metadata": {},
   "source": [
    "## Learning\n",
    "\n",
    "Definición del método de entrenamiento `train()` y del método de validación `validate()`. "
   ]
  },
  {
   "cell_type": "code",
   "execution_count": 7,
   "metadata": {},
   "outputs": [],
   "source": [
    "#Función de entrenamiento\n",
    "def train(epoch, log_interval=200):\n",
    "    # Set model to training mode\n",
    "    model.train()\n",
    "    \n",
    "    # Loop over each batch from the training set\n",
    "    for batch_idx, (data, _) in enumerate(train_loader):\n",
    "        # Copy data to GPU if needed\n",
    "        data = data.to(device)\n",
    "\n",
    "        # Zero gradient buffers\n",
    "        optimizer.zero_grad() \n",
    "        \n",
    "        # Pass data through the network\n",
    "        output = model(data)\n",
    "\n",
    "        # matriz a vector\n",
    "        target = data.view(-1, 28*28)\n",
    "        \n",
    "        # Calculate loss\n",
    "        loss = criterion(output, target)\n",
    "\n",
    "        # Backpropagate\n",
    "        loss.backward()\n",
    "        \n",
    "        # Update weights\n",
    "        optimizer.step()\n",
    "        \n",
    "        #Cada intervalo ponemos un mensaje de progreso\n",
    "        if batch_idx % log_interval == 0:\n",
    "            print('Train Epoch: {} [{}/{} ({:.0f}%)]\\tLoss: {:.6f}'.format(\n",
    "                epoch, batch_idx * len(data), len(train_loader.dataset),\n",
    "                100. * batch_idx / len(train_loader), loss.data.item()))"
   ]
  },
  {
   "cell_type": "code",
   "execution_count": 8,
   "metadata": {},
   "outputs": [],
   "source": [
    "#Función de activación\n",
    "def validate(loss_vector):\n",
    "    #Ponemos el modelo en modo validación\n",
    "    model.eval()\n",
    "    val_loss, correct = 0, 0\n",
    "\n",
    "    #Recorremos el cargador de validación\n",
    "    for data, _ in validation_loader:\n",
    "        #Copiamos en GPU si fuera posible\n",
    "        data = data.to(device)\n",
    "        #Obtenemos perdición del lote\n",
    "        output = model(data)\n",
    "        #Convertimos el resultado en un vector\n",
    "        target = data.view(-1, 28*28)\n",
    "        #Calculamos el loss y acumulamos, .data.item() para sacar el valor del tensor\n",
    "        val_loss += criterion(output, target).data.item()\n",
    "\n",
    "    #Hacemos media del loss para introducirlo a una lista, para ver el progreso\n",
    "    val_loss /= len(validation_loader)\n",
    "    loss_vector.append(val_loss)\n",
    "   \n",
    "    #Mostramos los valores actuales\n",
    "    print('\\nValidation set: Average loss: {:.4f}.\\n'.format(val_loss))\n"
   ]
  },
  {
   "cell_type": "code",
   "execution_count": 9,
   "metadata": {},
   "outputs": [],
   "source": [
    "#Función para reconstrucción del numero a una imagen \n",
    "def get_reconstruction():\n",
    "    #Ponemos el modelo en modo validación\n",
    "    model.eval()\n",
    "    val_loss, correct = 0, 0\n",
    "    #Recorremos el cargador de validación\n",
    "    for data, _ in validation_loader:\n",
    "        #Copiamos en GPU si fuera posible\n",
    "        data = data.to(device)\n",
    "        #Obtenemos perdición del lote\n",
    "        output = model(data)\n",
    "        #Convertimos el resultado en un 128 imágenes de 28x28 de una capa\n",
    "        output = output.reshape(128,1,28,28)\n",
    "        #Extraemos el mosaico de la primer imagen \n",
    "        mosaic = np.hstack((data[0].cpu().numpy().reshape(28,28), output[0].detach().cpu().numpy().reshape(28,28)))#[0]\n",
    "        #solo queremos el primer lote, sera utilizado para visualización del progreso de la red\n",
    "        break\n",
    "    #devolvemos la imagen \n",
    "    return mosaic"
   ]
  },
  {
   "cell_type": "markdown",
   "metadata": {},
   "source": [
    "# Bucle de entrenamiento\n",
    "\n",
    "Por cada epoch, vamos a entrenar y después a validar el modelo. Finalmente en cada epoch, mostramos la imagen de reconstrucción"
   ]
  },
  {
   "cell_type": "code",
   "execution_count": 10,
   "metadata": {
    "scrolled": false
   },
   "outputs": [
    {
     "name": "stderr",
     "output_type": "stream",
     "text": [
      "/home/alfith/.local/lib/python3.10/site-packages/torch/nn/functional.py:1960: UserWarning: nn.functional.sigmoid is deprecated. Use torch.sigmoid instead.\n",
      "  warnings.warn(\"nn.functional.sigmoid is deprecated. Use torch.sigmoid instead.\")\n"
     ]
    },
    {
     "name": "stdout",
     "output_type": "stream",
     "text": [
      "Train Epoch: 1 [0/60000 (0%)]\tLoss: 1.112931\n",
      "Train Epoch: 1 [25600/60000 (43%)]\tLoss: 0.717650\n",
      "Train Epoch: 1 [51200/60000 (85%)]\tLoss: 0.682358\n",
      "\n",
      "Validation set: Average loss: 0.6401.\n",
      "\n"
     ]
    },
    {
     "data": {
      "image/png": "[encoded data removed]",
      "text/plain": [
       "<Figure size 432x288 with 1 Axes>"
      ]
     },
     "metadata": {
      "needs_background": "light"
     },
     "output_type": "display_data"
    },
    {
     "name": "stdout",
     "output_type": "stream",
     "text": [
      "Train Epoch: 2 [0/60000 (0%)]\tLoss: 0.612269\n",
      "Train Epoch: 2 [25600/60000 (43%)]\tLoss: 0.578619\n",
      "Train Epoch: 2 [51200/60000 (85%)]\tLoss: 0.547107\n",
      "\n",
      "Validation set: Average loss: 0.5559.\n",
      "\n"
     ]
    },
    {
     "data": {
      "image/png": "[encoded data removed]",
      "text/plain": [
       "<Figure size 432x288 with 1 Axes>"
      ]
     },
     "metadata": {
      "needs_background": "light"
     },
     "output_type": "display_data"
    },
    {
     "name": "stdout",
     "output_type": "stream",
     "text": [
      "Train Epoch: 3 [0/60000 (0%)]\tLoss: 0.558291\n",
      "Train Epoch: 3 [25600/60000 (43%)]\tLoss: 0.556371\n",
      "Train Epoch: 3 [51200/60000 (85%)]\tLoss: 0.526979\n",
      "\n",
      "Validation set: Average loss: 0.5135.\n",
      "\n"
     ]
    },
    {
     "data": {
      "image/png": "[encoded data removed]",
      "text/plain": [
       "<Figure size 432x288 with 1 Axes>"
      ]
     },
     "metadata": {
      "needs_background": "light"
     },
     "output_type": "display_data"
    },
    {
     "name": "stdout",
     "output_type": "stream",
     "text": [
      "Train Epoch: 4 [0/60000 (0%)]\tLoss: 0.516813\n",
      "Train Epoch: 4 [25600/60000 (43%)]\tLoss: 0.508331\n",
      "Train Epoch: 4 [51200/60000 (85%)]\tLoss: 0.516162\n",
      "\n",
      "Validation set: Average loss: 0.5058.\n",
      "\n"
     ]
    },
    {
     "data": {
      "image/png": "[encoded data removed]",
      "text/plain": [
       "<Figure size 432x288 with 1 Axes>"
      ]
     },
     "metadata": {
      "needs_background": "light"
     },
     "output_type": "display_data"
    },
    {
     "name": "stdout",
     "output_type": "stream",
     "text": [
      "Train Epoch: 5 [0/60000 (0%)]\tLoss: 0.532421\n",
      "Train Epoch: 5 [25600/60000 (43%)]\tLoss: 0.514256\n",
      "Train Epoch: 5 [51200/60000 (85%)]\tLoss: 0.481712\n",
      "\n",
      "Validation set: Average loss: 0.4789.\n",
      "\n"
     ]
    },
    {
     "data": {
      "image/png": "[encoded data removed]",
      "text/plain": [
       "<Figure size 432x288 with 1 Axes>"
      ]
     },
     "metadata": {
      "needs_background": "light"
     },
     "output_type": "display_data"
    },
    {
     "name": "stdout",
     "output_type": "stream",
     "text": [
      "Train Epoch: 6 [0/60000 (0%)]\tLoss: 0.467446\n",
      "Train Epoch: 6 [25600/60000 (43%)]\tLoss: 0.470692\n",
      "Train Epoch: 6 [51200/60000 (85%)]\tLoss: 0.469219\n",
      "\n",
      "Validation set: Average loss: 0.4712.\n",
      "\n"
     ]
    },
    {
     "data": {
      "image/png": "[encoded data removed]",
      "text/plain": [
       "<Figure size 432x288 with 1 Axes>"
      ]
     },
     "metadata": {
      "needs_background": "light"
     },
     "output_type": "display_data"
    },
    {
     "name": "stdout",
     "output_type": "stream",
     "text": [
      "Train Epoch: 7 [0/60000 (0%)]\tLoss: 0.488247\n",
      "Train Epoch: 7 [25600/60000 (43%)]\tLoss: 0.477153\n",
      "Train Epoch: 7 [51200/60000 (85%)]\tLoss: 0.477017\n",
      "\n",
      "Validation set: Average loss: 0.4693.\n",
      "\n"
     ]
    },
    {
     "data": {
      "image/png": "[encoded data removed]",
      "text/plain": [
       "<Figure size 432x288 with 1 Axes>"
      ]
     },
     "metadata": {
      "needs_background": "light"
     },
     "output_type": "display_data"
    },
    {
     "name": "stdout",
     "output_type": "stream",
     "text": [
      "Train Epoch: 8 [0/60000 (0%)]\tLoss: 0.454510\n",
      "Train Epoch: 8 [25600/60000 (43%)]\tLoss: 0.476305\n",
      "Train Epoch: 8 [51200/60000 (85%)]\tLoss: 0.475474\n",
      "\n",
      "Validation set: Average loss: 0.4674.\n",
      "\n"
     ]
    },
    {
     "data": {
      "image/png": "[encoded data removed]",
      "text/plain": [
       "<Figure size 432x288 with 1 Axes>"
      ]
     },
     "metadata": {
      "needs_background": "light"
     },
     "output_type": "display_data"
    },
    {
     "name": "stdout",
     "output_type": "stream",
     "text": [
      "Train Epoch: 9 [0/60000 (0%)]\tLoss: 0.475820\n",
      "Train Epoch: 9 [25600/60000 (43%)]\tLoss: 0.489591\n",
      "Train Epoch: 9 [51200/60000 (85%)]\tLoss: 0.470853\n",
      "\n",
      "Validation set: Average loss: 0.4645.\n",
      "\n"
     ]
    },
    {
     "data": {
      "image/png": "[encoded data removed]",
      "text/plain": [
       "<Figure size 432x288 with 1 Axes>"
      ]
     },
     "metadata": {
      "needs_background": "light"
     },
     "output_type": "display_data"
    },
    {
     "name": "stdout",
     "output_type": "stream",
     "text": [
      "Train Epoch: 10 [0/60000 (0%)]\tLoss: 0.448091\n",
      "Train Epoch: 10 [25600/60000 (43%)]\tLoss: 0.455671\n",
      "Train Epoch: 10 [51200/60000 (85%)]\tLoss: 0.473897\n",
      "\n",
      "Validation set: Average loss: 0.4592.\n",
      "\n"
     ]
    },
    {
     "data": {
      "image/png": "[encoded data removed]",
      "text/plain": [
       "<Figure size 432x288 with 1 Axes>"
      ]
     },
     "metadata": {
      "needs_background": "light"
     },
     "output_type": "display_data"
    },
    {
     "name": "stdout",
     "output_type": "stream",
     "text": [
      "Train Epoch: 11 [0/60000 (0%)]\tLoss: 0.460109\n",
      "Train Epoch: 11 [25600/60000 (43%)]\tLoss: 0.453023\n",
      "Train Epoch: 11 [51200/60000 (85%)]\tLoss: 0.458593\n",
      "\n",
      "Validation set: Average loss: 0.4514.\n",
      "\n"
     ]
    },
    {
     "data": {
      "image/png": "[encoded data removed]",
      "text/plain": [
       "<Figure size 432x288 with 1 Axes>"
      ]
     },
     "metadata": {
      "needs_background": "light"
     },
     "output_type": "display_data"
    },
    {
     "name": "stdout",
     "output_type": "stream",
     "text": [
      "Train Epoch: 12 [0/60000 (0%)]\tLoss: 0.437187\n",
      "Train Epoch: 12 [25600/60000 (43%)]\tLoss: 0.455583\n",
      "Train Epoch: 12 [51200/60000 (85%)]\tLoss: 0.428319\n",
      "\n",
      "Validation set: Average loss: 0.4425.\n",
      "\n"
     ]
    },
    {
     "data": {
      "image/png": "[encoded data removed]",
      "text/plain": [
       "<Figure size 432x288 with 1 Axes>"
      ]
     },
     "metadata": {
      "needs_background": "light"
     },
     "output_type": "display_data"
    },
    {
     "name": "stdout",
     "output_type": "stream",
     "text": [
      "Train Epoch: 13 [0/60000 (0%)]\tLoss: 0.455940\n",
      "Train Epoch: 13 [25600/60000 (43%)]\tLoss: 0.447957\n",
      "Train Epoch: 13 [51200/60000 (85%)]\tLoss: 0.424657\n",
      "\n",
      "Validation set: Average loss: 0.4336.\n",
      "\n"
     ]
    },
    {
     "data": {
      "image/png": "[encoded data removed]",
      "text/plain": [
       "<Figure size 432x288 with 1 Axes>"
      ]
     },
     "metadata": {
      "needs_background": "light"
     },
     "output_type": "display_data"
    },
    {
     "name": "stdout",
     "output_type": "stream",
     "text": [
      "Train Epoch: 14 [0/60000 (0%)]\tLoss: 0.430224\n",
      "Train Epoch: 14 [25600/60000 (43%)]\tLoss: 0.445767\n",
      "Train Epoch: 14 [51200/60000 (85%)]\tLoss: 0.410925\n",
      "\n",
      "Validation set: Average loss: 0.4255.\n",
      "\n"
     ]
    },
    {
     "data": {
      "image/png": "[encoded data removed]",
      "text/plain": [
       "<Figure size 432x288 with 1 Axes>"
      ]
     },
     "metadata": {
      "needs_background": "light"
     },
     "output_type": "display_data"
    },
    {
     "name": "stdout",
     "output_type": "stream",
     "text": [
      "Train Epoch: 15 [0/60000 (0%)]\tLoss: 0.419529\n",
      "Train Epoch: 15 [25600/60000 (43%)]\tLoss: 0.441515\n",
      "Train Epoch: 15 [51200/60000 (85%)]\tLoss: 0.414831\n",
      "\n",
      "Validation set: Average loss: 0.4182.\n",
      "\n"
     ]
    },
    {
     "data": {
      "image/png": "[encoded data removed]",
      "text/plain": [
       "<Figure size 432x288 with 1 Axes>"
      ]
     },
     "metadata": {
      "needs_background": "light"
     },
     "output_type": "display_data"
    },
    {
     "name": "stdout",
     "output_type": "stream",
     "text": [
      "Train Epoch: 16 [0/60000 (0%)]\tLoss: 0.417006\n",
      "Train Epoch: 16 [25600/60000 (43%)]\tLoss: 0.402652\n",
      "Train Epoch: 16 [51200/60000 (85%)]\tLoss: 0.424591\n",
      "\n",
      "Validation set: Average loss: 0.4120.\n",
      "\n"
     ]
    },
    {
     "data": {
      "image/png": "[encoded data removed]",
      "text/plain": [
       "<Figure size 432x288 with 1 Axes>"
      ]
     },
     "metadata": {
      "needs_background": "light"
     },
     "output_type": "display_data"
    },
    {
     "name": "stdout",
     "output_type": "stream",
     "text": [
      "Train Epoch: 17 [0/60000 (0%)]\tLoss: 0.417213\n",
      "Train Epoch: 17 [25600/60000 (43%)]\tLoss: 0.418228\n",
      "Train Epoch: 17 [51200/60000 (85%)]\tLoss: 0.394536\n",
      "\n",
      "Validation set: Average loss: 0.4060.\n",
      "\n"
     ]
    },
    {
     "data": {
      "image/png": "[encoded data removed]",
      "text/plain": [
       "<Figure size 432x288 with 1 Axes>"
      ]
     },
     "metadata": {
      "needs_background": "light"
     },
     "output_type": "display_data"
    },
    {
     "name": "stdout",
     "output_type": "stream",
     "text": [
      "Train Epoch: 18 [0/60000 (0%)]\tLoss: 0.400903\n",
      "Train Epoch: 18 [25600/60000 (43%)]\tLoss: 0.426100\n",
      "Train Epoch: 18 [51200/60000 (85%)]\tLoss: 0.411887\n",
      "\n",
      "Validation set: Average loss: 0.4014.\n",
      "\n"
     ]
    },
    {
     "data": {
      "image/png": "[encoded data removed]",
      "text/plain": [
       "<Figure size 432x288 with 1 Axes>"
      ]
     },
     "metadata": {
      "needs_background": "light"
     },
     "output_type": "display_data"
    },
    {
     "name": "stdout",
     "output_type": "stream",
     "text": [
      "Train Epoch: 19 [0/60000 (0%)]\tLoss: 0.408773\n",
      "Train Epoch: 19 [25600/60000 (43%)]\tLoss: 0.394713\n",
      "Train Epoch: 19 [51200/60000 (85%)]\tLoss: 0.419966\n",
      "\n",
      "Validation set: Average loss: 0.3967.\n",
      "\n"
     ]
    },
    {
     "data": {
      "image/png": "[encoded data removed]",
      "text/plain": [
       "<Figure size 432x288 with 1 Axes>"
      ]
     },
     "metadata": {
      "needs_background": "light"
     },
     "output_type": "display_data"
    },
    {
     "name": "stdout",
     "output_type": "stream",
     "text": [
      "Train Epoch: 20 [0/60000 (0%)]\tLoss: 0.381443\n",
      "Train Epoch: 20 [25600/60000 (43%)]\tLoss: 0.403740\n",
      "Train Epoch: 20 [51200/60000 (85%)]\tLoss: 0.399090\n",
      "\n",
      "Validation set: Average loss: 0.3934.\n",
      "\n"
     ]
    },
    {
     "data": {
      "image/png": "[encoded data removed]",
      "text/plain": [
       "<Figure size 432x288 with 1 Axes>"
      ]
     },
     "metadata": {
      "needs_background": "light"
     },
     "output_type": "display_data"
    },
    {
     "name": "stdout",
     "output_type": "stream",
     "text": [
      "CPU times: user 2min 59s, sys: 5.78 s, total: 3min 5s\n",
      "Wall time: 3min\n"
     ]
    }
   ],
   "source": [
    "%%time\n",
    "#se realizara 20 épocas\n",
    "epochs = 20\n",
    "\n",
    "lossv = []\n",
    "#Realizamos la 20 épocas de entrenamiento, validación y reconstrucción\n",
    "for epoch in range(1, epochs + 1):\n",
    "    #Entrenar \n",
    "    train(epoch)\n",
    "    #Validar\n",
    "    validate(lossv)\n",
    "    #Obtenemos la representación del primer numero según la red\n",
    "    mosaic = get_reconstruction()\n",
    "    #Mostramos la imagen \n",
    "    plt.imshow(mosaic, cmap=\"gray_r\", vmin=0, vmax=1)\n",
    "    plt.title('Epoch: ' + str(epoch))\n",
    "    plt.show()"
   ]
  },
  {
   "cell_type": "markdown",
   "metadata": {},
   "source": [
    "Visualización del proceso de entrenamiento\n",
    "\n",
    "* *Loss* diferencia entre la salida del modelo y la real.  Hay que minimizarla hasta 0, para ello usamos el optimizador.\n",
    "* *Accuracy* es la precisión del modelo."
   ]
  },
  {
   "cell_type": "code",
   "execution_count": 11,
   "metadata": {},
   "outputs": [
    {
     "data": {
      "text/plain": [
       "Text(0.5, 1.0, 'validation loss')"
      ]
     },
     "execution_count": 11,
     "metadata": {},
     "output_type": "execute_result"
    },
    {
     "data": {
      "image/png": "[encoded data removed]",
      "text/plain": [
       "<Figure size 360x216 with 1 Axes>"
      ]
     },
     "metadata": {
      "needs_background": "light"
     },
     "output_type": "display_data"
    }
   ],
   "source": [
    "#Mostramos los resultados en gráficas\n",
    "#loss de validación\n",
    "plt.figure(figsize=(5,3))\n",
    "plt.plot(np.arange(1,epochs+1), lossv)\n",
    "plt.title('validation loss')\n"
   ]
  },
  {
   "cell_type": "code",
   "execution_count": null,
   "metadata": {},
   "outputs": [],
   "source": []
  }
 ],
 "metadata": {
  "kernelspec": {
   "display_name": "Python 3.10.6 64-bit",
   "language": "python",
   "name": "python3"
  },
  "language_info": {
   "codemirror_mode": {
    "name": "ipython",
    "version": 3
   },
   "file_extension": ".py",
   "mimetype": "text/x-python",
   "name": "python",
   "nbconvert_exporter": "python",
   "pygments_lexer": "ipython3",
   "version": "3.10.6"
  },
  "vscode": {
   "interpreter": {
    "hash": "916dbcbb3f70747c44a77c7bcd40155683ae19c65e1c03b4aa3499c5328201f1"
   }
  }
 },
 "nbformat": 4,
 "nbformat_minor": 4
}
