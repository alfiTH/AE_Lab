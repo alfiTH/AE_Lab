{
 "cells": [
  {
   "cell_type": "markdown",
   "metadata": {},
   "source": [
    "# Clasificación de números con CNNs (Convolutional Neural Networks)"
   ]
  },
  {
   "cell_type": "code",
   "execution_count": 67,
   "metadata": {},
   "outputs": [
    {
     "name": "stdout",
     "output_type": "stream",
     "text": [
      "Using PyTorch version: 1.12.1+cu102  Device: cuda\n"
     ]
    }
   ],
   "source": [
    "%matplotlib inline\n",
    "\n",
    "import torch\n",
    "import torch.nn as nn\n",
    "import torch.nn.functional as F\n",
    "from torchvision import datasets, transforms\n",
    "\n",
    "import numpy as np\n",
    "import matplotlib.pyplot as plt\n",
    "\n",
    "if torch.cuda.is_available():\n",
    "    device = torch.device('cuda')\n",
    "else:\n",
    "    device = torch.device('cpu')\n",
    "    \n",
    "print('Using PyTorch version:', torch.__version__, ' Device:', device)"
   ]
  },
  {
   "cell_type": "markdown",
   "metadata": {},
   "source": [
    "## Creación de los cargadores de datos."
   ]
  },
  {
   "cell_type": "code",
   "execution_count": 68,
   "metadata": {},
   "outputs": [],
   "source": [
    "batch_size = 30\n",
    "\n",
    "transforms = transforms.Compose([transforms.ToTensor(),\n",
    "                                 transforms.Resize(32),\n",
    "                                 transforms.Normalize((0.1307,), (0.3081,)),\n",
    "                                ])\n",
    "\n",
    "train_dataset = datasets.MNIST('/tmp/data', \n",
    "                               train=True, \n",
    "                               download=True, \n",
    "                               transform=transforms)\n",
    "\n",
    "validation_dataset = datasets.MNIST('/tmp/data', \n",
    "                                    train=False, \n",
    "                                    transform=transforms)\n",
    "\n",
    "train_loader = torch.utils.data.DataLoader(dataset=train_dataset, \n",
    "                                           batch_size=batch_size, \n",
    "                                           shuffle=True)\n",
    "\n",
    "validation_loader = torch.utils.data.DataLoader(dataset=validation_dataset, \n",
    "                                                batch_size=batch_size, \n",
    "                                                shuffle=False)"
   ]
  },
  {
   "cell_type": "markdown",
   "metadata": {},
   "source": [
    "The train and test data are provided via data loaders that provide iterators over the datasets. The first element of training data (`X_train`) is a 4th-order tensor of size (`batch_size`, 3, 32, 32), i.e. it consists of a batch of images of size 3x32x32 pixels. `y_train` is a vector containing the correct classes (\"0\", \"1\", ..., \"9\") for each training icon."
   ]
  },
  {
   "cell_type": "code",
   "execution_count": 69,
   "metadata": {},
   "outputs": [
    {
     "name": "stdout",
     "output_type": "stream",
     "text": [
      "X_train: torch.Size([30, 1, 32, 32]) type: torch.FloatTensor\n",
      "y_train: torch.Size([30]) type: torch.LongTensor\n"
     ]
    }
   ],
   "source": [
    "for (X_train, y_train) in train_loader:\n",
    "    print('X_train:', X_train.size(), 'type:', X_train.type())\n",
    "    print('y_train:', y_train.size(), 'type:', y_train.type())\n",
    "    break"
   ]
  },
  {
   "cell_type": "markdown",
   "metadata": {},
   "source": [
    "Mostramos los 10 primeros dígitos:"
   ]
  },
  {
   "cell_type": "code",
   "execution_count": 70,
   "metadata": {},
   "outputs": [
    {
     "data": {
      "image/png": "[encoded data removed]",
      "text/plain": [
       "<Figure size 720x72 with 10 Axes>"
      ]
     },
     "metadata": {
      "needs_background": "light"
     },
     "output_type": "display_data"
    }
   ],
   "source": [
    "pltsize=1\n",
    "plt.figure(figsize=(10*pltsize, pltsize))\n",
    "\n",
    "for i in range(10):\n",
    "    plt.subplot(1,10,i+1)\n",
    "    plt.axis('off')\n",
    "    plt.imshow(np.transpose(X_train[i,:,:,:].numpy(), (1,2,0)))\n",
    "    plt.title('Class: '+str(y_train[i].item()))"
   ]
  },
  {
   "cell_type": "markdown",
   "metadata": {},
   "source": [
    "## Definición del modelo MLP.\n",
    "\n",
    "El modelo se encuentra en: https://www.kaggle.com/code/blurredmachine/lenet-architecture-a-complete-guide/notebook\n",
    "\n"
   ]
  },
  {
   "cell_type": "code",
   "execution_count": 71,
   "metadata": {},
   "outputs": [],
   "source": [
    "class Net(nn.Module):\n",
    "    def __init__(self):\n",
    "        super(Net, self).__init__()\n",
    "        ## anade tu modelo\n",
    "        self.fc1 = nn.Conv2d(in_channels=1, out_channels=6, kernel_size= (5,5), stride=1)\n",
    "        self.fc2 = nn.MaxPool2d(kernel_size= (2,2), stride=2)\n",
    "        self.fc3 = nn.Conv2d(in_channels=6, out_channels=16, kernel_size= (5,5), stride=1)\n",
    "        self.fc4 = nn.MaxPool2d(kernel_size= (2,2), stride=2)\n",
    "        self.fc5 = nn.Conv2d(in_channels=16, out_channels=120, kernel_size= (5,5), stride=1)\n",
    "        self.fc6 = nn.Linear(120, 84)     #Tercera capa. Entrada de 5 a 50\n",
    "        self.fc7 = nn.Linear(84, 10) #Ultima capa. Entrada de 50 a 784 \n",
    "\n",
    "        \n",
    "    def forward(self, x):\n",
    "\n",
    "        x = F.tanh(self.fc1(x))  #tanh en la primera capa\n",
    "        x = F.tanh(self.fc2(x))  #tanh en la segunda capa\n",
    "        x = F.tanh(self.fc3(x))  #tanh en la tercera capa\n",
    "        x = F.tanh(self.fc4(x))  #tanh en la tercera capa\n",
    "        x = F.tanh(self.fc5(x))  #tanh en la tercera capa\n",
    "        x = x.view(-1, 120)\n",
    "        x = F.relu(self.fc6(x))  #relu en la tercera capa\n",
    "        x = self.fc7(x) \n",
    "        \n",
    "        \n",
    "        return x\n"
   ]
  },
  {
   "cell_type": "markdown",
   "metadata": {},
   "source": [
    "## Creación del modelo, optimizador y función de pérdida.\n"
   ]
  },
  {
   "cell_type": "code",
   "execution_count": 72,
   "metadata": {},
   "outputs": [
    {
     "name": "stdout",
     "output_type": "stream",
     "text": [
      "Net(\n",
      "  (fc1): Conv2d(1, 6, kernel_size=(5, 5), stride=(1, 1))\n",
      "  (fc2): MaxPool2d(kernel_size=(2, 2), stride=2, padding=0, dilation=1, ceil_mode=False)\n",
      "  (fc3): Conv2d(6, 16, kernel_size=(5, 5), stride=(1, 1))\n",
      "  (fc4): MaxPool2d(kernel_size=(2, 2), stride=2, padding=0, dilation=1, ceil_mode=False)\n",
      "  (fc5): Conv2d(16, 120, kernel_size=(5, 5), stride=(1, 1))\n",
      "  (fc6): Linear(in_features=120, out_features=84, bias=True)\n",
      "  (fc7): Linear(in_features=84, out_features=10, bias=True)\n",
      ")\n"
     ]
    }
   ],
   "source": [
    "model = Net().to(device)\n",
    "optimizer = torch.optim.Adam(model.parameters(), lr=1e-3)\n",
    "criterion = nn.CrossEntropyLoss()\n",
    "\n",
    "print(model)"
   ]
  },
  {
   "cell_type": "markdown",
   "metadata": {},
   "source": [
    "## Learning\n",
    "\n",
    "Definición del método de entrenamiento `train()` y del método de validación `validate()`. "
   ]
  },
  {
   "cell_type": "code",
   "execution_count": 73,
   "metadata": {},
   "outputs": [],
   "source": [
    "def train(epoch, log_interval=200):\n",
    "    # Set model to training mode\n",
    "    model.train()\n",
    "    \n",
    "    # Loop over each batch from the training set\n",
    "    for batch_idx, (data, target) in enumerate(train_loader):\n",
    "        # Copy data to GPU if needed\n",
    "        data = data.to(device)\n",
    "        target = target.to(device)\n",
    "\n",
    "        # Zero gradient buffers\n",
    "        optimizer.zero_grad() \n",
    "        \n",
    "        # Pass data through the network\n",
    "        output = model(data)\n",
    "\n",
    "        # Calculate loss\n",
    "        loss = criterion(output, target)\n",
    "\n",
    "        # Backpropagate\n",
    "        loss.backward()\n",
    "        \n",
    "        # Update weights\n",
    "        optimizer.step()\n",
    "        \n",
    "        if batch_idx % log_interval == 0:\n",
    "            print('Train Epoch: {} [{}/{} ({:.0f}%)]\\tLoss: {:.6f}'.format(\n",
    "                epoch, batch_idx * len(data), len(train_loader.dataset),\n",
    "                100. * batch_idx / len(train_loader), loss.data.item()))"
   ]
  },
  {
   "cell_type": "code",
   "execution_count": 74,
   "metadata": {},
   "outputs": [],
   "source": [
    "def validate(loss_vector, accuracy_vector):\n",
    "    model.eval()\n",
    "    val_loss, correct = 0, 0\n",
    "    for data, target in validation_loader:\n",
    "        data = data.to(device)\n",
    "        target = target.to(device)\n",
    "        output = model(data)\n",
    "        val_loss += criterion(output, target).data.item()\n",
    "        pred = output.data.max(1)[1] # get the index of the max\n",
    "        correct += pred.eq(target.data).cpu().sum()\n",
    "\n",
    "    val_loss /= len(validation_loader)\n",
    "    loss_vector.append(val_loss)\n",
    "\n",
    "    accuracy = 100. * correct.to(torch.float32) / len(validation_loader.dataset)\n",
    "    accuracy_vector.append(accuracy)\n",
    "    \n",
    "    print('\\nValidation set: Average loss: {:.4f}, Accuracy: {}/{} ({:.0f}%)\\n'.format(\n",
    "        val_loss, correct, len(validation_loader.dataset), accuracy))\n"
   ]
  },
  {
   "cell_type": "markdown",
   "metadata": {},
   "source": [
    "# Bucle de entrenamiento\n",
    "\n",
    "Por cada epoch, vamos a entrenar y después a validar el modelo"
   ]
  },
  {
   "cell_type": "code",
   "execution_count": 75,
   "metadata": {},
   "outputs": [
    {
     "name": "stdout",
     "output_type": "stream",
     "text": [
      "Train Epoch: 1 [0/60000 (0%)]\tLoss: 2.300155\n",
      "Train Epoch: 1 [6000/60000 (10%)]\tLoss: 0.235469\n",
      "Train Epoch: 1 [12000/60000 (20%)]\tLoss: 0.149617\n",
      "Train Epoch: 1 [18000/60000 (30%)]\tLoss: 0.044944\n",
      "Train Epoch: 1 [24000/60000 (40%)]\tLoss: 0.079735\n",
      "Train Epoch: 1 [30000/60000 (50%)]\tLoss: 0.092958\n",
      "Train Epoch: 1 [36000/60000 (60%)]\tLoss: 0.045255\n",
      "Train Epoch: 1 [42000/60000 (70%)]\tLoss: 0.006342\n",
      "Train Epoch: 1 [48000/60000 (80%)]\tLoss: 0.088743\n",
      "Train Epoch: 1 [54000/60000 (90%)]\tLoss: 0.286788\n",
      "\n",
      "Validation set: Average loss: 0.0606, Accuracy: 9807/10000 (98%)\n",
      "\n",
      "Train Epoch: 2 [0/60000 (0%)]\tLoss: 0.023748\n",
      "Train Epoch: 2 [6000/60000 (10%)]\tLoss: 0.081545\n",
      "Train Epoch: 2 [12000/60000 (20%)]\tLoss: 0.069641\n",
      "Train Epoch: 2 [18000/60000 (30%)]\tLoss: 0.005262\n",
      "Train Epoch: 2 [24000/60000 (40%)]\tLoss: 0.175203\n",
      "Train Epoch: 2 [30000/60000 (50%)]\tLoss: 0.025649\n",
      "Train Epoch: 2 [36000/60000 (60%)]\tLoss: 0.003505\n",
      "Train Epoch: 2 [42000/60000 (70%)]\tLoss: 0.004735\n",
      "Train Epoch: 2 [48000/60000 (80%)]\tLoss: 0.013535\n",
      "Train Epoch: 2 [54000/60000 (90%)]\tLoss: 0.035290\n",
      "\n",
      "Validation set: Average loss: 0.0650, Accuracy: 9791/10000 (98%)\n",
      "\n",
      "Train Epoch: 3 [0/60000 (0%)]\tLoss: 0.265677\n",
      "Train Epoch: 3 [6000/60000 (10%)]\tLoss: 0.002878\n",
      "Train Epoch: 3 [12000/60000 (20%)]\tLoss: 0.326358\n",
      "Train Epoch: 3 [18000/60000 (30%)]\tLoss: 0.014787\n",
      "Train Epoch: 3 [24000/60000 (40%)]\tLoss: 0.002208\n",
      "Train Epoch: 3 [30000/60000 (50%)]\tLoss: 0.021777\n",
      "Train Epoch: 3 [36000/60000 (60%)]\tLoss: 0.086406\n",
      "Train Epoch: 3 [42000/60000 (70%)]\tLoss: 0.190423\n",
      "Train Epoch: 3 [48000/60000 (80%)]\tLoss: 0.007155\n",
      "Train Epoch: 3 [54000/60000 (90%)]\tLoss: 0.016209\n",
      "\n",
      "Validation set: Average loss: 0.0437, Accuracy: 9852/10000 (99%)\n",
      "\n",
      "Train Epoch: 4 [0/60000 (0%)]\tLoss: 0.003024\n",
      "Train Epoch: 4 [6000/60000 (10%)]\tLoss: 0.001198\n",
      "Train Epoch: 4 [12000/60000 (20%)]\tLoss: 0.008509\n",
      "Train Epoch: 4 [18000/60000 (30%)]\tLoss: 0.066531\n",
      "Train Epoch: 4 [24000/60000 (40%)]\tLoss: 0.015129\n",
      "Train Epoch: 4 [30000/60000 (50%)]\tLoss: 0.034806\n",
      "Train Epoch: 4 [36000/60000 (60%)]\tLoss: 0.041136\n",
      "Train Epoch: 4 [42000/60000 (70%)]\tLoss: 0.002273\n",
      "Train Epoch: 4 [48000/60000 (80%)]\tLoss: 0.000784\n",
      "Train Epoch: 4 [54000/60000 (90%)]\tLoss: 0.000913\n",
      "\n",
      "Validation set: Average loss: 0.0363, Accuracy: 9883/10000 (99%)\n",
      "\n",
      "Train Epoch: 5 [0/60000 (0%)]\tLoss: 0.005749\n",
      "Train Epoch: 5 [6000/60000 (10%)]\tLoss: 0.033349\n",
      "Train Epoch: 5 [12000/60000 (20%)]\tLoss: 0.022569\n",
      "Train Epoch: 5 [18000/60000 (30%)]\tLoss: 0.012675\n",
      "Train Epoch: 5 [24000/60000 (40%)]\tLoss: 0.000644\n",
      "Train Epoch: 5 [30000/60000 (50%)]\tLoss: 0.015114\n",
      "Train Epoch: 5 [36000/60000 (60%)]\tLoss: 0.075905\n",
      "Train Epoch: 5 [42000/60000 (70%)]\tLoss: 0.000395\n",
      "Train Epoch: 5 [48000/60000 (80%)]\tLoss: 0.066499\n",
      "Train Epoch: 5 [54000/60000 (90%)]\tLoss: 0.004693\n",
      "\n",
      "Validation set: Average loss: 0.0411, Accuracy: 9863/10000 (99%)\n",
      "\n",
      "Train Epoch: 6 [0/60000 (0%)]\tLoss: 0.175475\n",
      "Train Epoch: 6 [6000/60000 (10%)]\tLoss: 0.017551\n",
      "Train Epoch: 6 [12000/60000 (20%)]\tLoss: 0.002202\n",
      "Train Epoch: 6 [18000/60000 (30%)]\tLoss: 0.000584\n",
      "Train Epoch: 6 [24000/60000 (40%)]\tLoss: 0.000379\n",
      "Train Epoch: 6 [30000/60000 (50%)]\tLoss: 0.000474\n",
      "Train Epoch: 6 [36000/60000 (60%)]\tLoss: 0.003637\n",
      "Train Epoch: 6 [42000/60000 (70%)]\tLoss: 0.003351\n",
      "Train Epoch: 6 [48000/60000 (80%)]\tLoss: 0.041856\n",
      "Train Epoch: 6 [54000/60000 (90%)]\tLoss: 0.014425\n",
      "\n",
      "Validation set: Average loss: 0.0429, Accuracy: 9883/10000 (99%)\n",
      "\n",
      "Train Epoch: 7 [0/60000 (0%)]\tLoss: 0.002139\n",
      "Train Epoch: 7 [6000/60000 (10%)]\tLoss: 0.000068\n",
      "Train Epoch: 7 [12000/60000 (20%)]\tLoss: 0.001290\n",
      "Train Epoch: 7 [18000/60000 (30%)]\tLoss: 0.004172\n",
      "Train Epoch: 7 [24000/60000 (40%)]\tLoss: 0.051011\n",
      "Train Epoch: 7 [30000/60000 (50%)]\tLoss: 0.000182\n",
      "Train Epoch: 7 [36000/60000 (60%)]\tLoss: 0.000081\n",
      "Train Epoch: 7 [42000/60000 (70%)]\tLoss: 0.007969\n",
      "Train Epoch: 7 [48000/60000 (80%)]\tLoss: 0.015234\n",
      "Train Epoch: 7 [54000/60000 (90%)]\tLoss: 0.000353\n",
      "\n",
      "Validation set: Average loss: 0.0431, Accuracy: 9866/10000 (99%)\n",
      "\n",
      "Train Epoch: 8 [0/60000 (0%)]\tLoss: 0.001666\n",
      "Train Epoch: 8 [6000/60000 (10%)]\tLoss: 0.010835\n",
      "Train Epoch: 8 [12000/60000 (20%)]\tLoss: 0.000167\n",
      "Train Epoch: 8 [18000/60000 (30%)]\tLoss: 0.000784\n",
      "Train Epoch: 8 [24000/60000 (40%)]\tLoss: 0.001244\n",
      "Train Epoch: 8 [30000/60000 (50%)]\tLoss: 0.099985\n",
      "Train Epoch: 8 [36000/60000 (60%)]\tLoss: 0.004755\n",
      "Train Epoch: 8 [42000/60000 (70%)]\tLoss: 0.000492\n",
      "Train Epoch: 8 [48000/60000 (80%)]\tLoss: 0.070760\n",
      "Train Epoch: 8 [54000/60000 (90%)]\tLoss: 0.069788\n",
      "\n",
      "Validation set: Average loss: 0.0420, Accuracy: 9871/10000 (99%)\n",
      "\n",
      "Train Epoch: 9 [0/60000 (0%)]\tLoss: 0.077609\n",
      "Train Epoch: 9 [6000/60000 (10%)]\tLoss: 0.045424\n",
      "Train Epoch: 9 [12000/60000 (20%)]\tLoss: 0.000306\n",
      "Train Epoch: 9 [18000/60000 (30%)]\tLoss: 0.000159\n",
      "Train Epoch: 9 [24000/60000 (40%)]\tLoss: 0.000402\n",
      "Train Epoch: 9 [30000/60000 (50%)]\tLoss: 0.127423\n",
      "Train Epoch: 9 [36000/60000 (60%)]\tLoss: 0.001322\n",
      "Train Epoch: 9 [42000/60000 (70%)]\tLoss: 0.015518\n",
      "Train Epoch: 9 [48000/60000 (80%)]\tLoss: 0.000037\n",
      "Train Epoch: 9 [54000/60000 (90%)]\tLoss: 0.000163\n",
      "\n",
      "Validation set: Average loss: 0.0417, Accuracy: 9886/10000 (99%)\n",
      "\n",
      "Train Epoch: 10 [0/60000 (0%)]\tLoss: 0.001388\n",
      "Train Epoch: 10 [6000/60000 (10%)]\tLoss: 0.000173\n",
      "Train Epoch: 10 [12000/60000 (20%)]\tLoss: 0.019371\n",
      "Train Epoch: 10 [18000/60000 (30%)]\tLoss: 0.000065\n",
      "Train Epoch: 10 [24000/60000 (40%)]\tLoss: 0.000029\n",
      "Train Epoch: 10 [30000/60000 (50%)]\tLoss: 0.010539\n",
      "Train Epoch: 10 [36000/60000 (60%)]\tLoss: 0.001288\n",
      "Train Epoch: 10 [42000/60000 (70%)]\tLoss: 0.044144\n",
      "Train Epoch: 10 [48000/60000 (80%)]\tLoss: 0.148432\n",
      "Train Epoch: 10 [54000/60000 (90%)]\tLoss: 0.007685\n",
      "\n",
      "Validation set: Average loss: 0.0501, Accuracy: 9865/10000 (99%)\n",
      "\n",
      "CPU times: user 3min 3s, sys: 9.04 s, total: 3min 12s\n",
      "Wall time: 3min 11s\n"
     ]
    }
   ],
   "source": [
    "%%time\n",
    "epochs = 10\n",
    "\n",
    "lossv, accv = [], []\n",
    "for epoch in range(1, epochs + 1):\n",
    "    train(epoch)\n",
    "    validate(lossv, accv)"
   ]
  },
  {
   "cell_type": "markdown",
   "metadata": {},
   "source": [
    "Visualización del proceso de entrenamiento\n",
    "\n",
    "* *Loss* diferencia entre la salida del modelo y la real.  Hay que minimizarla hasta 0, para ello usamos el optimizador.\n",
    "* *Accuracy* es la precisión del modelo."
   ]
  },
  {
   "cell_type": "code",
   "execution_count": 76,
   "metadata": {},
   "outputs": [
    {
     "data": {
      "image/png": "[encoded data removed]",
      "text/plain": [
       "<Figure size 360x216 with 1 Axes>"
      ]
     },
     "metadata": {
      "needs_background": "light"
     },
     "output_type": "display_data"
    },
    {
     "data": {
      "image/png": "[encoded data removed]",
      "text/plain": [
       "<Figure size 360x216 with 1 Axes>"
      ]
     },
     "metadata": {
      "needs_background": "light"
     },
     "output_type": "display_data"
    }
   ],
   "source": [
    "plt.figure(figsize=(5,3))\n",
    "plt.plot(np.arange(1,epochs+1), lossv)\n",
    "plt.title('validation loss')\n",
    "\n",
    "plt.figure(figsize=(5,3))\n",
    "plt.plot(np.arange(1,epochs+1), accv)\n",
    "plt.title('validation accuracy');"
   ]
  }
 ],
 "metadata": {
  "kernelspec": {
   "display_name": "Python 3.10.6 64-bit",
   "language": "python",
   "name": "python3"
  },
  "language_info": {
   "codemirror_mode": {
    "name": "ipython",
    "version": 3
   },
   "file_extension": ".py",
   "mimetype": "text/x-python",
   "name": "python",
   "nbconvert_exporter": "python",
   "pygments_lexer": "ipython3",
   "version": "3.10.6"
  },
  "vscode": {
   "interpreter": {
    "hash": "916dbcbb3f70747c44a77c7bcd40155683ae19c65e1c03b4aa3499c5328201f1"
   }
  }
 },
 "nbformat": 4,
 "nbformat_minor": 4
}
