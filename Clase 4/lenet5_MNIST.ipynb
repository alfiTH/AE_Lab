{
 "cells": [
  {
   "cell_type": "markdown",
   "metadata": {},
   "source": [
    "# Clasificación de números con CNNs (Convolutional Neural Networks)"
   ]
  },
  {
   "cell_type": "code",
   "execution_count": 11,
   "metadata": {},
   "outputs": [
    {
     "name": "stdout",
     "output_type": "stream",
     "text": [
      "Using PyTorch version: 1.12.1+cu102  Device: cuda\n"
     ]
    }
   ],
   "source": [
    "%matplotlib inline\n",
    "\n",
    "import torch\n",
    "import torch.nn as nn\n",
    "import torch.nn.functional as F\n",
    "from torchvision import datasets, transforms\n",
    "\n",
    "import numpy as np\n",
    "import matplotlib.pyplot as plt\n",
    "\n",
    "if torch.cuda.is_available():\n",
    "    device = torch.device('cuda')\n",
    "else:\n",
    "    device = torch.device('cpu')\n",
    "    \n",
    "print('Using PyTorch version:', torch.__version__, ' Device:', device)"
   ]
  },
  {
   "cell_type": "markdown",
   "metadata": {},
   "source": [
    "## Creación de los cargadores de datos."
   ]
  },
  {
   "cell_type": "code",
   "execution_count": 12,
   "metadata": {},
   "outputs": [],
   "source": [
    "batch_size = 30\n",
    "\n",
    "transforms = transforms.Compose([\n",
    "                                 transforms.Resize(32),\n",
    "                                 transforms.ToTensor(),\n",
    "                                 transforms.Normalize((0.1307,), (0.3081,)),\n",
    "                                ])\n",
    "\n",
    "train_dataset = datasets.MNIST('/tmp/data', \n",
    "                               train=True, \n",
    "                               download=True, \n",
    "                               transform=transforms)\n",
    "\n",
    "validation_dataset = datasets.MNIST('/tmp/data', \n",
    "                                    train=False, \n",
    "                                    transform=transforms)\n",
    "\n",
    "train_loader = torch.utils.data.DataLoader(dataset=train_dataset, \n",
    "                                           batch_size=batch_size, \n",
    "                                           shuffle=True)\n",
    "\n",
    "validation_loader = torch.utils.data.DataLoader(dataset=validation_dataset, \n",
    "                                                batch_size=batch_size, \n",
    "                                                shuffle=False)"
   ]
  },
  {
   "cell_type": "markdown",
   "metadata": {},
   "source": [
    "The train and test data are provided via data loaders that provide iterators over the datasets. The first element of training data (`X_train`) is a 4th-order tensor of size (`batch_size`, 3, 32, 32), i.e. it consists of a batch of images of size 3x32x32 pixels. `y_train` is a vector containing the correct classes (\"0\", \"1\", ..., \"9\") for each training icon."
   ]
  },
  {
   "cell_type": "code",
   "execution_count": 13,
   "metadata": {},
   "outputs": [
    {
     "name": "stdout",
     "output_type": "stream",
     "text": [
      "X_train: torch.Size([30, 1, 32, 32]) type: torch.FloatTensor\n",
      "y_train: torch.Size([30]) type: torch.LongTensor\n"
     ]
    }
   ],
   "source": [
    "for (X_train, y_train) in train_loader:\n",
    "    print('X_train:', X_train.size(), 'type:', X_train.type())\n",
    "    print('y_train:', y_train.size(), 'type:', y_train.type())\n",
    "    break"
   ]
  },
  {
   "cell_type": "markdown",
   "metadata": {},
   "source": [
    "Mostramos los 10 primeros dígitos:"
   ]
  },
  {
   "cell_type": "code",
   "execution_count": 14,
   "metadata": {},
   "outputs": [
    {
     "data": {
      "image/png": "[encoded data removed]",
      "text/plain": [
       "<Figure size 720x72 with 10 Axes>"
      ]
     },
     "metadata": {
      "needs_background": "light"
     },
     "output_type": "display_data"
    }
   ],
   "source": [
    "pltsize=1\n",
    "plt.figure(figsize=(10*pltsize, pltsize))\n",
    "\n",
    "for i in range(10):\n",
    "    plt.subplot(1,10,i+1)\n",
    "    plt.axis('off')\n",
    "    plt.imshow(np.transpose(X_train[i,:,:,:].numpy(), (1,2,0)))\n",
    "    plt.title('Class: '+str(y_train[i].item()))"
   ]
  },
  {
   "cell_type": "markdown",
   "metadata": {},
   "source": [
    "## Definición del modelo MLP.\n",
    "\n",
    "El modelo se encuentra en: https://www.kaggle.com/code/blurredmachine/lenet-architecture-a-complete-guide/notebook\n",
    "\n"
   ]
  },
  {
   "cell_type": "code",
   "execution_count": 15,
   "metadata": {},
   "outputs": [],
   "source": [
    "class Net(nn.Module):\n",
    "    def __init__(self):\n",
    "        super(Net, self).__init__()\n",
    "        ## anade tu modelo\n",
    "        self.fc1 = nn.Conv2d(in_channels=1, out_channels=6, kernel_size= (5,5), stride=1)\n",
    "        self.fc2 = nn.MaxPool2d(kernel_size= (2,2), stride=2)\n",
    "        self.fc3 = nn.Conv2d(in_channels=6, out_channels=16, kernel_size= (5,5), stride=1)\n",
    "        self.fc4 = nn.MaxPool2d(kernel_size= (2,2), stride=2)\n",
    "        self.fc5 = nn.Conv2d(in_channels=16, out_channels=120, kernel_size= (5,5), stride=1)\n",
    "        self.fc6 = nn.Linear(120, 84)#Tercera capa. Entrada de 5 a 50\n",
    "        self.fc7 = nn.Linear(84, 10) #Ultima capa. Entrada de 50 a 784 \n",
    "\n",
    "        \n",
    "    def forward(self, x):\n",
    "\n",
    "        x = F.tanh(self.fc1(x))  #tanh en la primera capa\n",
    "        x = F.tanh(self.fc2(x))  #tanh en la segunda capa\n",
    "        x = F.tanh(self.fc3(x))  #tanh en la tercera capa\n",
    "        x = F.tanh(self.fc4(x))  #tanh en la cuarta capa\n",
    "        x = F.tanh(self.fc5(x))  #tanh en la quinta capa\n",
    "        x = x.view(-1, 120)\n",
    "        x = F.relu(self.fc6(x))  #relu en la sexta capa\n",
    "        x = self.fc7(x) \n",
    "        \n",
    "        \n",
    "        return x\n"
   ]
  },
  {
   "cell_type": "markdown",
   "metadata": {},
   "source": [
    "## Creación del modelo, optimizador y función de pérdida.\n"
   ]
  },
  {
   "cell_type": "code",
   "execution_count": 16,
   "metadata": {},
   "outputs": [
    {
     "name": "stdout",
     "output_type": "stream",
     "text": [
      "Net(\n",
      "  (fc1): Conv2d(1, 6, kernel_size=(5, 5), stride=(1, 1))\n",
      "  (fc2): MaxPool2d(kernel_size=(2, 2), stride=2, padding=0, dilation=1, ceil_mode=False)\n",
      "  (fc3): Conv2d(6, 16, kernel_size=(5, 5), stride=(1, 1))\n",
      "  (fc4): MaxPool2d(kernel_size=(2, 2), stride=2, padding=0, dilation=1, ceil_mode=False)\n",
      "  (fc5): Conv2d(16, 120, kernel_size=(5, 5), stride=(1, 1))\n",
      "  (fc6): Linear(in_features=120, out_features=84, bias=True)\n",
      "  (fc7): Linear(in_features=84, out_features=10, bias=True)\n",
      ")\n"
     ]
    }
   ],
   "source": [
    "model = Net().to(device)\n",
    "optimizer = torch.optim.Adam(model.parameters(), lr=1e-3)\n",
    "criterion = nn.CrossEntropyLoss()\n",
    "\n",
    "print(model)"
   ]
  },
  {
   "cell_type": "markdown",
   "metadata": {},
   "source": [
    "## Learning\n",
    "\n",
    "Definición del método de entrenamiento `train()` y del método de validación `validate()`. "
   ]
  },
  {
   "cell_type": "code",
   "execution_count": 17,
   "metadata": {},
   "outputs": [],
   "source": [
    "def train(epoch, log_interval=200):\n",
    "    # Set model to training mode\n",
    "    model.train()\n",
    "    \n",
    "    # Loop over each batch from the training set\n",
    "    for batch_idx, (data, target) in enumerate(train_loader):\n",
    "        # Copy data to GPU if needed\n",
    "        data = data.to(device)\n",
    "        target = target.to(device)\n",
    "\n",
    "        # Zero gradient buffers\n",
    "        optimizer.zero_grad() \n",
    "        \n",
    "        # Pass data through the network\n",
    "        output = model(data)\n",
    "\n",
    "        # Calculate loss\n",
    "        loss = criterion(output, target)\n",
    "\n",
    "        # Backpropagate\n",
    "        loss.backward()\n",
    "        \n",
    "        # Update weights\n",
    "        optimizer.step()\n",
    "        \n",
    "        if batch_idx % log_interval == 0:\n",
    "            print('Train Epoch: {} [{}/{} ({:.0f}%)]\\tLoss: {:.6f}'.format(\n",
    "                epoch, batch_idx * len(data), len(train_loader.dataset),\n",
    "                100. * batch_idx / len(train_loader), loss.data.item()))"
   ]
  },
  {
   "cell_type": "code",
   "execution_count": 18,
   "metadata": {},
   "outputs": [],
   "source": [
    "def validate(loss_vector, accuracy_vector):\n",
    "    model.eval()\n",
    "    val_loss, correct = 0, 0\n",
    "    for data, target in validation_loader:\n",
    "        data = data.to(device)\n",
    "        target = target.to(device)\n",
    "        output = model(data)\n",
    "        val_loss += criterion(output, target).data.item()\n",
    "        pred = output.data.max(1)[1] # get the index of the max\n",
    "        correct += pred.eq(target.data).cpu().sum()\n",
    "\n",
    "    val_loss /= len(validation_loader)\n",
    "    loss_vector.append(val_loss)\n",
    "\n",
    "    accuracy = 100. * correct.to(torch.float32) / len(validation_loader.dataset)\n",
    "    accuracy_vector.append(accuracy)\n",
    "    \n",
    "    print('\\nValidation set: Average loss: {:.4f}, Accuracy: {}/{} ({:.0f}%)\\n'.format(\n",
    "        val_loss, correct, len(validation_loader.dataset), accuracy))\n"
   ]
  },
  {
   "cell_type": "markdown",
   "metadata": {},
   "source": [
    "# Bucle de entrenamiento\n",
    "\n",
    "Por cada epoch, vamos a entrenar y después a validar el modelo"
   ]
  },
  {
   "cell_type": "code",
   "execution_count": 19,
   "metadata": {},
   "outputs": [
    {
     "name": "stderr",
     "output_type": "stream",
     "text": [
      "/home/alfith/.local/lib/python3.10/site-packages/torch/nn/functional.py:1949: UserWarning: nn.functional.tanh is deprecated. Use torch.tanh instead.\n",
      "  warnings.warn(\"nn.functional.tanh is deprecated. Use torch.tanh instead.\")\n"
     ]
    },
    {
     "name": "stdout",
     "output_type": "stream",
     "text": [
      "Train Epoch: 1 [0/60000 (0%)]\tLoss: 2.324857\n",
      "Train Epoch: 1 [6000/60000 (10%)]\tLoss: 1.349815\n",
      "Train Epoch: 1 [12000/60000 (20%)]\tLoss: 0.694797\n",
      "Train Epoch: 1 [18000/60000 (30%)]\tLoss: 0.620558\n",
      "Train Epoch: 1 [24000/60000 (40%)]\tLoss: 0.391266\n",
      "Train Epoch: 1 [30000/60000 (50%)]\tLoss: 0.340234\n",
      "Train Epoch: 1 [36000/60000 (60%)]\tLoss: 0.503586\n",
      "Train Epoch: 1 [42000/60000 (70%)]\tLoss: 0.204578\n",
      "Train Epoch: 1 [48000/60000 (80%)]\tLoss: 0.516990\n",
      "Train Epoch: 1 [54000/60000 (90%)]\tLoss: 0.470601\n",
      "\n",
      "Validation set: Average loss: 0.3385, Accuracy: 8886/10000 (89%)\n",
      "\n",
      "Train Epoch: 2 [0/60000 (0%)]\tLoss: 0.385438\n",
      "Train Epoch: 2 [6000/60000 (10%)]\tLoss: 0.222676\n",
      "Train Epoch: 2 [12000/60000 (20%)]\tLoss: 0.137202\n",
      "Train Epoch: 2 [18000/60000 (30%)]\tLoss: 0.316847\n",
      "Train Epoch: 2 [24000/60000 (40%)]\tLoss: 0.227049\n",
      "Train Epoch: 2 [30000/60000 (50%)]\tLoss: 0.140506\n",
      "Train Epoch: 2 [36000/60000 (60%)]\tLoss: 0.263408\n",
      "Train Epoch: 2 [42000/60000 (70%)]\tLoss: 0.206888\n",
      "Train Epoch: 2 [48000/60000 (80%)]\tLoss: 0.177543\n",
      "Train Epoch: 2 [54000/60000 (90%)]\tLoss: 0.697103\n",
      "\n",
      "Validation set: Average loss: 0.2439, Accuracy: 9211/10000 (92%)\n",
      "\n",
      "Train Epoch: 3 [0/60000 (0%)]\tLoss: 0.105111\n",
      "Train Epoch: 3 [6000/60000 (10%)]\tLoss: 0.133772\n",
      "Train Epoch: 3 [12000/60000 (20%)]\tLoss: 0.331309\n",
      "Train Epoch: 3 [18000/60000 (30%)]\tLoss: 0.271357\n",
      "Train Epoch: 3 [24000/60000 (40%)]\tLoss: 0.078806\n",
      "Train Epoch: 3 [30000/60000 (50%)]\tLoss: 0.285956\n",
      "Train Epoch: 3 [36000/60000 (60%)]\tLoss: 0.030360\n",
      "Train Epoch: 3 [42000/60000 (70%)]\tLoss: 0.055987\n",
      "Train Epoch: 3 [48000/60000 (80%)]\tLoss: 0.134130\n",
      "Train Epoch: 3 [54000/60000 (90%)]\tLoss: 0.355507\n",
      "\n",
      "Validation set: Average loss: 0.2001, Accuracy: 9343/10000 (93%)\n",
      "\n",
      "Train Epoch: 4 [0/60000 (0%)]\tLoss: 0.033560\n",
      "Train Epoch: 4 [6000/60000 (10%)]\tLoss: 0.108113\n",
      "Train Epoch: 4 [12000/60000 (20%)]\tLoss: 0.115192\n",
      "Train Epoch: 4 [18000/60000 (30%)]\tLoss: 0.052398\n",
      "Train Epoch: 4 [24000/60000 (40%)]\tLoss: 0.237057\n",
      "Train Epoch: 4 [30000/60000 (50%)]\tLoss: 0.293932\n",
      "Train Epoch: 4 [36000/60000 (60%)]\tLoss: 0.721688\n",
      "Train Epoch: 4 [42000/60000 (70%)]\tLoss: 0.086728\n",
      "Train Epoch: 4 [48000/60000 (80%)]\tLoss: 0.403272\n",
      "Train Epoch: 4 [54000/60000 (90%)]\tLoss: 0.189555\n",
      "\n",
      "Validation set: Average loss: 0.1819, Accuracy: 9441/10000 (94%)\n",
      "\n",
      "Train Epoch: 5 [0/60000 (0%)]\tLoss: 0.449785\n",
      "Train Epoch: 5 [6000/60000 (10%)]\tLoss: 0.240013\n",
      "Train Epoch: 5 [12000/60000 (20%)]\tLoss: 0.291173\n",
      "Train Epoch: 5 [18000/60000 (30%)]\tLoss: 0.042963\n",
      "Train Epoch: 5 [24000/60000 (40%)]\tLoss: 0.231466\n",
      "Train Epoch: 5 [30000/60000 (50%)]\tLoss: 0.373617\n",
      "Train Epoch: 5 [36000/60000 (60%)]\tLoss: 0.173554\n",
      "Train Epoch: 5 [42000/60000 (70%)]\tLoss: 0.289192\n",
      "Train Epoch: 5 [48000/60000 (80%)]\tLoss: 0.045406\n",
      "Train Epoch: 5 [54000/60000 (90%)]\tLoss: 0.095497\n",
      "\n",
      "Validation set: Average loss: 0.1562, Accuracy: 9500/10000 (95%)\n",
      "\n",
      "Train Epoch: 6 [0/60000 (0%)]\tLoss: 0.047258\n",
      "Train Epoch: 6 [6000/60000 (10%)]\tLoss: 0.036199\n",
      "Train Epoch: 6 [12000/60000 (20%)]\tLoss: 0.347232\n",
      "Train Epoch: 6 [18000/60000 (30%)]\tLoss: 0.202863\n",
      "Train Epoch: 6 [24000/60000 (40%)]\tLoss: 0.058902\n",
      "Train Epoch: 6 [30000/60000 (50%)]\tLoss: 0.383507\n",
      "Train Epoch: 6 [36000/60000 (60%)]\tLoss: 0.368913\n",
      "Train Epoch: 6 [42000/60000 (70%)]\tLoss: 0.462137\n",
      "Train Epoch: 6 [48000/60000 (80%)]\tLoss: 0.053782\n",
      "Train Epoch: 6 [54000/60000 (90%)]\tLoss: 0.078921\n",
      "\n",
      "Validation set: Average loss: 0.1463, Accuracy: 9535/10000 (95%)\n",
      "\n",
      "Train Epoch: 7 [0/60000 (0%)]\tLoss: 0.186294\n",
      "Train Epoch: 7 [6000/60000 (10%)]\tLoss: 0.270360\n",
      "Train Epoch: 7 [12000/60000 (20%)]\tLoss: 0.100605\n",
      "Train Epoch: 7 [18000/60000 (30%)]\tLoss: 0.055923\n",
      "Train Epoch: 7 [24000/60000 (40%)]\tLoss: 0.148393\n",
      "Train Epoch: 7 [30000/60000 (50%)]\tLoss: 0.121018\n",
      "Train Epoch: 7 [36000/60000 (60%)]\tLoss: 0.043965\n",
      "Train Epoch: 7 [42000/60000 (70%)]\tLoss: 0.321305\n",
      "Train Epoch: 7 [48000/60000 (80%)]\tLoss: 0.311467\n",
      "Train Epoch: 7 [54000/60000 (90%)]\tLoss: 0.046403\n",
      "\n",
      "Validation set: Average loss: 0.1374, Accuracy: 9544/10000 (95%)\n",
      "\n",
      "Train Epoch: 8 [0/60000 (0%)]\tLoss: 0.107664\n",
      "Train Epoch: 8 [6000/60000 (10%)]\tLoss: 0.335951\n",
      "Train Epoch: 8 [12000/60000 (20%)]\tLoss: 0.254763\n",
      "Train Epoch: 8 [18000/60000 (30%)]\tLoss: 0.021437\n",
      "Train Epoch: 8 [24000/60000 (40%)]\tLoss: 0.143558\n",
      "Train Epoch: 8 [30000/60000 (50%)]\tLoss: 0.103902\n",
      "Train Epoch: 8 [36000/60000 (60%)]\tLoss: 0.130253\n",
      "Train Epoch: 8 [42000/60000 (70%)]\tLoss: 0.110866\n",
      "Train Epoch: 8 [48000/60000 (80%)]\tLoss: 0.047777\n",
      "Train Epoch: 8 [54000/60000 (90%)]\tLoss: 0.209179\n",
      "\n",
      "Validation set: Average loss: 0.1510, Accuracy: 9498/10000 (95%)\n",
      "\n",
      "Train Epoch: 9 [0/60000 (0%)]\tLoss: 0.213510\n",
      "Train Epoch: 9 [6000/60000 (10%)]\tLoss: 0.139363\n",
      "Train Epoch: 9 [12000/60000 (20%)]\tLoss: 0.034881\n",
      "Train Epoch: 9 [18000/60000 (30%)]\tLoss: 0.160863\n",
      "Train Epoch: 9 [24000/60000 (40%)]\tLoss: 0.038609\n",
      "Train Epoch: 9 [30000/60000 (50%)]\tLoss: 0.126041\n",
      "Train Epoch: 9 [36000/60000 (60%)]\tLoss: 0.126430\n",
      "Train Epoch: 9 [42000/60000 (70%)]\tLoss: 0.092807\n",
      "Train Epoch: 9 [48000/60000 (80%)]\tLoss: 0.332186\n",
      "Train Epoch: 9 [54000/60000 (90%)]\tLoss: 0.089950\n",
      "\n",
      "Validation set: Average loss: 0.1375, Accuracy: 9566/10000 (96%)\n",
      "\n",
      "Train Epoch: 10 [0/60000 (0%)]\tLoss: 0.064036\n",
      "Train Epoch: 10 [6000/60000 (10%)]\tLoss: 0.150929\n",
      "Train Epoch: 10 [12000/60000 (20%)]\tLoss: 0.053808\n",
      "Train Epoch: 10 [18000/60000 (30%)]\tLoss: 0.056926\n",
      "Train Epoch: 10 [24000/60000 (40%)]\tLoss: 0.141790\n",
      "Train Epoch: 10 [30000/60000 (50%)]\tLoss: 0.120804\n",
      "Train Epoch: 10 [36000/60000 (60%)]\tLoss: 0.054644\n",
      "Train Epoch: 10 [42000/60000 (70%)]\tLoss: 0.036359\n",
      "Train Epoch: 10 [48000/60000 (80%)]\tLoss: 0.008402\n",
      "Train Epoch: 10 [54000/60000 (90%)]\tLoss: 0.027231\n",
      "\n",
      "Validation set: Average loss: 0.1359, Accuracy: 9563/10000 (96%)\n",
      "\n",
      "CPU times: user 3min 21s, sys: 8.89 s, total: 3min 30s\n",
      "Wall time: 3min 30s\n"
     ]
    }
   ],
   "source": [
    "%%time\n",
    "epochs = 10\n",
    "\n",
    "lossv, accv = [], []\n",
    "for epoch in range(1, epochs + 1):\n",
    "    train(epoch)\n",
    "    validate(lossv, accv)"
   ]
  },
  {
   "cell_type": "markdown",
   "metadata": {},
   "source": [
    "Visualización del proceso de entrenamiento\n",
    "\n",
    "* *Loss* diferencia entre la salida del modelo y la real.  Hay que minimizarla hasta 0, para ello usamos el optimizador.\n",
    "* *Accuracy* es la precisión del modelo."
   ]
  },
  {
   "cell_type": "code",
   "execution_count": 20,
   "metadata": {},
   "outputs": [
    {
     "data": {
      "text/plain": [
       "Text(0.5, 1.0, 'validation accuracy')"
      ]
     },
     "execution_count": 20,
     "metadata": {},
     "output_type": "execute_result"
    },
    {
     "data": {
      "image/png": "[encoded data removed]",
      "text/plain": [
       "<Figure size 360x216 with 1 Axes>"
      ]
     },
     "metadata": {
      "needs_background": "light"
     },
     "output_type": "display_data"
    },
    {
     "data": {
      "image/png": "[encoded data removed]",
      "text/plain": [
       "<Figure size 360x216 with 1 Axes>"
      ]
     },
     "metadata": {
      "needs_background": "light"
     },
     "output_type": "display_data"
    }
   ],
   "source": [
    "plt.figure(figsize=(5,3))\n",
    "plt.plot(np.arange(1,epochs+1), lossv)\n",
    "plt.title('validation loss')\n",
    "\n",
    "plt.figure(figsize=(5,3))\n",
    "plt.plot(np.arange(1,epochs+1), accv)\n",
    "plt.title('validation accuracy')"
   ]
  }
 ],
 "metadata": {
  "kernelspec": {
   "display_name": "Python 3.10.6 64-bit",
   "language": "python",
   "name": "python3"
  },
  "language_info": {
   "codemirror_mode": {
    "name": "ipython",
    "version": 3
   },
   "file_extension": ".py",
   "mimetype": "text/x-python",
   "name": "python",
   "nbconvert_exporter": "python",
   "pygments_lexer": "ipython3",
   "version": "3.10.6"
  },
  "vscode": {
   "interpreter": {
    "hash": "916dbcbb3f70747c44a77c7bcd40155683ae19c65e1c03b4aa3499c5328201f1"
   }
  }
 },
 "nbformat": 4,
 "nbformat_minor": 4
}
